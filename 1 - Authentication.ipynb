{
 "cells": [
  {
   "cell_type": "code",
   "execution_count": 3,
   "id": "21aa4cb2",
   "metadata": {},
   "outputs": [],
   "source": [
    "import tweepy\n",
    "import webbrowser\n",
    "import time"
   ]
  },
  {
   "cell_type": "code",
   "execution_count": 4,
   "id": "9e863837",
   "metadata": {},
   "outputs": [],
   "source": [
    "consumer_key = \"jzn0NU9EviCRRbONbUXX9a8VN\"\n",
    "consumer_secret = \"ULsKu9BjBPmZ3yY5NdS6EXUhGBNWKUWxtwKqFktBeqsOq1Y3ZQ\""
   ]
  },
  {
   "cell_type": "code",
   "execution_count": 5,
   "id": "db50a9e6",
   "metadata": {},
   "outputs": [],
   "source": [
    "callback_uri = 'oob'#url "
   ]
  },
  {
   "cell_type": "code",
   "execution_count": 7,
   "id": "a20a8c5c",
   "metadata": {},
   "outputs": [
    {
     "name": "stdout",
     "output_type": "stream",
     "text": [
      "https://api.twitter.com/oauth/authorize?oauth_token=8tyd5QAAAAABQdBPAAABeeke_gc\n"
     ]
    }
   ],
   "source": [
    "auth = tweepy.OAuthHandler(consumer_key, consumer_secret, callback_uri)\n",
    "redirect_url = auth.get_authorization_url() \n",
    "print(redirect_url)"
   ]
  },
  {
   "cell_type": "code",
   "execution_count": 9,
   "id": "d7975768",
   "metadata": {
    "scrolled": true
   },
   "outputs": [
    {
     "data": {
      "text/plain": [
       "True"
      ]
     },
     "execution_count": 9,
     "metadata": {},
     "output_type": "execute_result"
    }
   ],
   "source": [
    "webbrowser.open(redirect_url)"
   ]
  },
  {
   "cell_type": "code",
   "execution_count": null,
   "id": "94b8908f",
   "metadata": {},
   "outputs": [],
   "source": []
  },
  {
   "cell_type": "code",
   "execution_count": 13,
   "id": "ff548d28",
   "metadata": {},
   "outputs": [
    {
     "name": "stdout",
     "output_type": "stream",
     "text": [
      "What's the pin value? 9278179\n"
     ]
    }
   ],
   "source": [
    "user_pint_input = input(\"What's the pin value? \")"
   ]
  },
  {
   "cell_type": "code",
   "execution_count": 15,
   "id": "917d5196",
   "metadata": {},
   "outputs": [
    {
     "data": {
      "text/plain": [
       "('781482721-HwReWduVtrggeIQjx2EbX6Q19iy15BK5wBfCXmHB',\n",
       " 'nC2guQ3XHEXltZfDiWQVr6iRz6vkUl0xUrO08MTGj94Qv')"
      ]
     },
     "execution_count": 15,
     "metadata": {},
     "output_type": "execute_result"
    }
   ],
   "source": [
    "auth.get_access_token(user_pint_input)"
   ]
  },
  {
   "cell_type": "code",
   "execution_count": 16,
   "id": "3757047c",
   "metadata": {},
   "outputs": [
    {
     "name": "stdout",
     "output_type": "stream",
     "text": [
      "781482721-HwReWduVtrggeIQjx2EbX6Q19iy15BK5wBfCXmHB nC2guQ3XHEXltZfDiWQVr6iRz6vkUl0xUrO08MTGj94Qv\n"
     ]
    }
   ],
   "source": [
    "print(auth.access_token, auth.access_token_secret)"
   ]
  },
  {
   "cell_type": "code",
   "execution_count": 17,
   "id": "3aadb4eb",
   "metadata": {},
   "outputs": [],
   "source": [
    "api = tweepy.API(auth)"
   ]
  },
  {
   "cell_type": "code",
   "execution_count": 18,
   "id": "8f587d84",
   "metadata": {},
   "outputs": [],
   "source": [
    "me = api.me()"
   ]
  },
  {
   "cell_type": "code",
   "execution_count": 19,
   "id": "fe878d9d",
   "metadata": {},
   "outputs": [
    {
     "name": "stdout",
     "output_type": "stream",
     "text": [
      "unspokenprophcy\n"
     ]
    }
   ],
   "source": [
    "print(me.screen_name)"
   ]
  },
  {
   "cell_type": "code",
   "execution_count": null,
   "id": "a80307b6",
   "metadata": {},
   "outputs": [],
   "source": []
  }
 ],
 "metadata": {
  "kernelspec": {
   "display_name": "Python 3",
   "language": "python",
   "name": "python3"
  },
  "language_info": {
   "codemirror_mode": {
    "name": "ipython",
    "version": 3
   },
   "file_extension": ".py",
   "mimetype": "text/x-python",
   "name": "python",
   "nbconvert_exporter": "python",
   "pygments_lexer": "ipython3",
   "version": "3.9.5"
  }
 },
 "nbformat": 4,
 "nbformat_minor": 5
}
