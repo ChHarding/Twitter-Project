{
 "cells": [
  {
   "cell_type": "code",
   "execution_count": null,
   "source": [
    "from tweepy.streaming import StreamListener\r\n",
    "from tweepy import OAuthHandler\r\n",
    "from tweepy import Stream\r\n",
    "import tweepy"
   ],
   "outputs": [],
   "metadata": {}
  },
  {
   "cell_type": "code",
   "execution_count": null,
   "source": [
    "class TwitterStreamer():\r\n",
    "    \"\"\"\r\n",
    "    Class for streaming and processing live tweets.\r\n",
    "    \"\"\"\r\n",
    "    def __init__(self):\r\n",
    "        pass\r\n",
    "\r\n",
    "    def stream_tweets(self, fetched_tweets_filename, hash_tag_list):\r\n",
    "        # This handles Twitter authetification and the connection to Twitter Streaming API\r\n",
    "        listener = StdOutListener(fetched_tweets_filename)\r\n",
    "        consumerKey = 'jzn0NU9EviCRRbONbUXX9a8VN'\r\n",
    "        consumerSecret = 'ULsKu9BjBPmZ3yY5NdS6EXUhGBNWKUWxtwKqFktBeqsOq1Y3ZQ'\r\n",
    "        accessToken = '781482721-6928Gtnj95bK82PW3fYDxHFvU5T4l3SPI4VVF1X2'\r\n",
    "        accessTokenSecret = 'fTxclLJ4oxEmqshRhSbBibGoUiNq1l6941C0VyREdTf41'\r\n",
    "        auth = tweepy.OAuthHandler(consumerKey, consumerSecret)\r\n",
    "        auth.set_access_token(accessToken, accessTokenSecret)\r\n",
    "        stream = Stream(auth, listener)\r\n",
    "\r\n",
    "        # This line filter Twitter Streams to capture data by the keywords: \r\n",
    "        stream.filter(track=hash_tag_list)\r\n"
   ],
   "outputs": [],
   "metadata": {}
  },
  {
   "cell_type": "code",
   "execution_count": null,
   "source": [
    "class StdOutListener(StreamListener):\r\n",
    "    \"\"\"\r\n",
    "    This is a basic listener that just prints received tweets to stdout.\r\n",
    "    \"\"\"\r\n",
    "    def __init__(self, fetched_tweets_filename):\r\n",
    "        self.fetched_tweets_filename = fetched_tweets_filename\r\n",
    "\r\n",
    "    def on_data(self, data):\r\n",
    "        try:\r\n",
    "            print(data)\r\n",
    "            # this is to stop streaming after about 80 lines considering 1 line with 80 characters\r\n",
    "            if len(data) > 1:\r\n",
    "                with open(self.fetched_tweets_filename, 'w') as tf:\r\n",
    "                    tf.write(data)\r\n",
    "                with open(self.fetched_tweets_filename, 'r') as f:\r\n",
    "                    lines = f.readlines()\r\n",
    "                if len(lines) > 80:\r\n",
    "                    exit() \r\n",
    "                return True\r\n",
    "        except BaseException as e:\r\n",
    "            print(\"Error on_data %s\" % str(e))\r\n",
    "        return True\r\n",
    "          \r\n",
    "\r\n",
    "    def on_error(self, status=10):\r\n",
    "        if status_code == 420:\r\n",
    "            #returning False in on_data disconnects the stream\r\n",
    "            return False\r\n",
    "        print(status)"
   ],
   "outputs": [],
   "metadata": {}
  },
  {
   "cell_type": "code",
   "execution_count": null,
   "source": [
    "# class StdOutListener(StreamListener):\n",
    "#     \"\"\"\n",
    "#     This is a basic listener that just prints received tweets to stdout.\n",
    "#     \"\"\"\n",
    "#     def __init__(self, fetched_tweets_filename):\n",
    "#         self.fetched_tweets_filename = fetched_tweets_filename\n",
    "\n",
    "#     def on_data(self, data):\n",
    "#         try:\n",
    "#             print(data)\n",
    "#             # this is to stop streaming after about 80 lines considering 1 line with 80 characters\n",
    "#             if len(data) > 1:\n",
    "#                 with open(self.fetched_tweets_filename, 'a') as tf:\n",
    "#                     tf.write(data)\n",
    "#                 return True\n",
    "#         except BaseException as e:\n",
    "#             print(\"Error on_data %s\" % str(e))\n",
    "#         return True\n",
    "# #     def on_data(self, data):\n",
    "# #         try:\n",
    "# #             print(data)\n",
    "# #             with open(self.fetched_tweets_filename, 'a') as tf:\n",
    "# #                 tf.write(data)\n",
    "# #             return True\n",
    "# #         except BaseException as e:\n",
    "# #             print(\"Error on_data %s\" % str(e))\n",
    "# #         return True\n",
    "          \n",
    "\n",
    "#     def on_error(self, status=10):\n",
    "#         if status_code == 420:\n",
    "#             #returning False in on_data disconnects the stream\n",
    "#             return False\n",
    "#         print(status)"
   ],
   "outputs": [],
   "metadata": {}
  },
  {
   "cell_type": "code",
   "execution_count": null,
   "source": [
    "if __name__ == '__main__':\n",
    " \n",
    "    # Authenticate using config.py and connect to Twitter Streaming API.\n",
    "    hash_tag_list = [\"covid19\"]\n",
    "    fetched_tweets_filename = \"tweets.txt\"\n",
    "\n",
    "    twitter_streamer = TwitterStreamer()\n",
    "    twitter_streamer.stream_tweets(fetched_tweets_filename, hash_tag_list)"
   ],
   "outputs": [],
   "metadata": {}
  },
  {
   "cell_type": "code",
   "execution_count": null,
   "source": [
    "import pandas as pd\n",
    "\n",
    "read_file = pd.read_csv (r'C:\\Users\\black\\Tweepy Project\\Twitter-Project\\Part_1_Specific_Twitter_Analysis\\tweets.txt')\n",
    "read_file.to_csv (r'C:\\Users\\black\\Tweepy Project\\Twitter-Project\\Part_1_Specific_Twitter_Analysis\\tweets.csv', index=None)"
   ],
   "outputs": [],
   "metadata": {}
  },
  {
   "cell_type": "code",
   "execution_count": null,
   "source": [
    "#Referencing how to create a Word Cloud https://www.youtube.com/watch?v=HcKUU5nNmrs \n",
    "# import matplotlib.pyplot as plt\n",
    "# !pip install wordcloud\n",
    "# !pip install STOPWORDS\n",
    "\n",
    "# #read text\n",
    "# text = open('tweets.txt', mode='r', encoding='utf-8').read()\n",
    "# stopwords = STOPWORDS\n",
    "# print(len(stopwords))\n",
    "\n",
    "# wc = WordCloud (background_color='white', stopwords=stopwords, height=600, width=400)\n",
    "# wc.generate(text)\n",
    "\n",
    "# wc=to_file('wordcloud_output.png')"
   ],
   "outputs": [],
   "metadata": {}
  },
  {
   "cell_type": "code",
   "execution_count": null,
   "source": [],
   "outputs": [],
   "metadata": {}
  }
 ],
 "metadata": {
  "kernelspec": {
   "display_name": "Python 3",
   "language": "python",
   "name": "python3"
  },
  "language_info": {
   "codemirror_mode": {
    "name": "ipython",
    "version": 3
   },
   "file_extension": ".py",
   "mimetype": "text/x-python",
   "name": "python",
   "nbconvert_exporter": "python",
   "pygments_lexer": "ipython3",
   "version": "3.9.5"
  }
 },
 "nbformat": 4,
 "nbformat_minor": 5
}