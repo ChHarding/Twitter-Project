{
 "cells": [
  {
   "cell_type": "code",
   "execution_count": 1,
   "id": "44008334",
   "metadata": {},
   "outputs": [],
   "source": [
    "from tweepy import API \n",
    "from tweepy import Cursor\n",
    "from tweepy.streaming import StreamListener\n",
    "from tweepy import OAuthHandler\n",
    "from tweepy import Stream\n",
    "import tweepy\n",
    "import numpy as np\n",
    "import pandas as pd\n",
    "import matplotlib.pyplot as plt"
   ]
  },
  {
   "cell_type": "code",
   "execution_count": 2,
   "id": "c6e00765",
   "metadata": {},
   "outputs": [],
   "source": [
    "class TwitterClient():\n",
    "    def __init__(self, twitter_user=None):\n",
    "        self.auth = TwitterAuthenticator().authenticate_twitter_app()\n",
    "        self.twitter_client = API(self.auth)\n",
    "\n",
    "        self.twitter_user = twitter_user\n",
    "\n",
    "    def get_twitter_client_api(self):\n",
    "        return self.twitter_client\n",
    "\n",
    "    def get_user_timeline_tweets(self, num_tweets):\n",
    "        tweets = []\n",
    "        for tweet in Cursor(self.twitter_client.user_timeline, id=self.twitter_user).items(num_tweets):\n",
    "            tweets.append(tweet)\n",
    "        return tweets\n",
    "\n",
    "    def get_friend_list(self, num_friends):\n",
    "        friend_list = []\n",
    "        for friend in Cursor(self.twitter_client.friends, id=self.twitter_user).items(num_friends):\n",
    "            friend_list.append(friend)\n",
    "        return friend_list\n",
    "\n",
    "    def get_home_timeline_tweets(self, num_tweets):\n",
    "        home_timeline_tweets = []\n",
    "        for tweet in Cursor(self.twitter_client.home_timeline, id=self.twitter_user).items(num_tweets):\n",
    "            home_timeline_tweets.append(tweet)\n",
    "        return home_timeline_tweets"
   ]
  },
  {
   "cell_type": "code",
   "execution_count": 3,
   "id": "297970de",
   "metadata": {},
   "outputs": [],
   "source": [
    "class TwitterAuthenticator():\n",
    "\n",
    "    def authenticate_twitter_app(self):\n",
    "        consumerKey = 'jzn0NU9EviCRRbONbUXX9a8VN'\n",
    "        consumerSecret = 'ULsKu9BjBPmZ3yY5NdS6EXUhGBNWKUWxtwKqFktBeqsOq1Y3ZQ'\n",
    "        accessToken = '781482721-6928Gtnj95bK82PW3fYDxHFvU5T4l3SPI4VVF1X2'\n",
    "        accessTokenSecret = 'fTxclLJ4oxEmqshRhSbBibGoUiNq1l6941C0VyREdTf41'\n",
    "        auth = tweepy.OAuthHandler(consumerKey, consumerSecret)\n",
    "        auth.set_access_token(accessToken, accessTokenSecret)\n",
    "        return auth\n",
    "\n",
    "# # # # TWITTER STREAMER # # # #\n",
    "class TwitterStreamer():\n",
    "    \"\"\"\n",
    "    Class for streaming and processing live tweets.\n",
    "    \"\"\"\n",
    "    def __init__(self):\n",
    "        self.twitter_autenticator = TwitterAuthenticator()    \n",
    "\n",
    "    def stream_tweets(self, fetched_tweets_filename, hash_tag_list):\n",
    "        # This handles Twitter authetification and the connection to Twitter Streaming API\n",
    "        listener = TwitterListener(fetched_tweets_filename)\n",
    "        auth = self.twitter_autenticator.authenticate_twitter_app() \n",
    "        stream = Stream(auth, listener)\n",
    "\n",
    "        # This line filter Twitter Streams to capture data by the keywords: \n",
    "        stream.filter(track=hash_tag_list)"
   ]
  },
  {
   "cell_type": "code",
   "execution_count": 4,
   "id": "4fe5b2f9",
   "metadata": {},
   "outputs": [],
   "source": [
    "class TwitterListener(StreamListener):\n",
    "    \"\"\"\n",
    "    This is a basic listener that just prints received tweets to stdout.\n",
    "    \"\"\"\n",
    "    def __init__(self, fetched_tweets_filename):\n",
    "        self.fetched_tweets_filename = fetched_tweets_filename\n",
    "\n",
    "    def on_data(self, data):\n",
    "        try:\n",
    "            print(data)\n",
    "            with open(self.fetched_tweets_filename, 'a') as tf:\n",
    "                tf.write(data)\n",
    "            return True\n",
    "        except BaseException as e:\n",
    "            print(\"Error on_data %s\" % str(e))\n",
    "        return True\n",
    "          \n",
    "    def on_error(self, status):\n",
    "        if status == 420:\n",
    "            # Returning False on_data method in case rate limit occurs.\n",
    "            return False\n",
    "        print(status)"
   ]
  },
  {
   "cell_type": "code",
   "execution_count": 5,
   "id": "e41d35a4",
   "metadata": {},
   "outputs": [],
   "source": [
    "class TweetAnalyzer():\n",
    "    \"\"\"\n",
    "    Functionality for analyzing and categorizing content from tweets.\n",
    "    \"\"\"\n",
    "    def tweets_to_data_frame(self, tweets):\n",
    "        df = pd.DataFrame(data=[tweet.text for tweet in tweets], columns=['tweets'])\n",
    "\n",
    "        df['id'] = np.array([tweet.id for tweet in tweets])\n",
    "        df['len'] = np.array([len(tweet.text) for tweet in tweets])\n",
    "        df['date'] = np.array([tweet.created_at for tweet in tweets])\n",
    "        df['source'] = np.array([tweet.source for tweet in tweets])\n",
    "        df['likes'] = np.array([tweet.favorite_count for tweet in tweets])\n",
    "        df['retweets'] = np.array([tweet.retweet_count for tweet in tweets])\n",
    "\n",
    "        return df"
   ]
  },
  {
   "cell_type": "code",
   "execution_count": 6,
   "id": "844f2ecf",
   "metadata": {},
   "outputs": [
    {
     "name": "stdout",
     "output_type": "stream",
     "text": [
      "Enter twitter user name to find timeline data: code\n",
      "Number of Tweets total: 130.4\n",
      "Number of Likes total: 931\n",
      "Number of Retweets total: 148\n",
      "                                               tweets                   id  \\\n",
      "0   RT @mattbierner: Today's @code tip: Import sta...  1417918551797739527   \n",
      "1   RT @codepo8: If you're a user of the Chrome or...  1417873758300385282   \n",
      "2   RT @pythonvscode: Have you signed up for @euro...  1417607254094893060   \n",
      "3   Learn about debugging JS apps with VS Code and...  1417559267637284865   \n",
      "4   RT @TylerLeonhardt: 🚀 In @code insiders today....  1417237638268915716   \n",
      "5   🔟 We're going live in 10 minutes! Tune in at 1...  1417202585174413315   \n",
      "6   Learn to build web apps with @vuejs and @code ...  1416827867481190400   \n",
      "7   (New date 🗓) Learn about debugging frontend we...  1416445857499582467   \n",
      "8   Using VS Code and #WSL on Windows? Here are so...  1416146627409195011   \n",
      "9   RT @stuartleeks: Want to be able to open a fol...  1416117548936953857   \n",
      "10  A VS Code theme for all the times that you wis...  1416102091945349124   \n",
      "\n",
      "    len                date           source  likes  retweets  \n",
      "0   140 2021-07-21 18:45:01           Buffer      0        10  \n",
      "1   139 2021-07-21 15:47:01           Buffer      0        28  \n",
      "2   140 2021-07-20 22:08:01           Buffer      0        26  \n",
      "3   140 2021-07-20 18:57:21        TweetDeck     71         7  \n",
      "4   140 2021-07-19 21:39:18        TweetDeck      0        35  \n",
      "5   126 2021-07-19 19:20:01           Buffer     50         5  \n",
      "6    71 2021-07-18 18:31:01           Buffer    186        21  \n",
      "7   140 2021-07-17 17:13:03           Buffer    119        16  \n",
      "8   122 2021-07-16 21:24:01           Buffer    226        55  \n",
      "9   140 2021-07-16 19:28:28  Twitter Web App      0        29  \n",
      "10  128 2021-07-16 18:27:03           Buffer    931       148  \n"
     ]
    }
   ],
   "source": [
    "if __name__ == '__main__':\n",
    "\n",
    "    twitter_client = TwitterClient()\n",
    "    tweet_analyzer = TweetAnalyzer()\n",
    "\n",
    "    api = twitter_client.get_twitter_client_api()\n",
    "    screen_name = input(\"Enter twitter user name to find timeline data: \")\n",
    "    tweets = api.user_timeline(screen_name, count=20) #=input(\"Enter twitter user name to find timeline data: \"\n",
    "\n",
    "    #print(dir(tweets[0]))\n",
    "    #print(tweets[0].retweet_count)\n",
    "\n",
    "    df = tweet_analyzer.tweets_to_data_frame(tweets)\n",
    "\n",
    "    # Get average length over all tweets:\n",
    "    print('Number of Tweets total: %s' % np.mean(df['len']))\n",
    "\n",
    "    # Get the number of likes for the most liked tweet:\n",
    "    print('Number of Likes total: %s' % np.max(df['likes']))\n",
    "\n",
    "    # Get the number of retweets for the most retweeted tweet:\n",
    "    print('Number of Retweets total: %s' % np.max(df['retweets'])) #'Number of Retweets: ' %s \n",
    "    \n",
    "    print(df.head(11))"
   ]
  },
  {
   "cell_type": "code",
   "execution_count": 7,
   "id": "53fd4708",
   "metadata": {},
   "outputs": [
    {
     "data": {
      "text/plain": [
       "Text(0.5, 1.0, 'Twitter User code Likes & Retweets chart')"
      ]
     },
     "execution_count": 7,
     "metadata": {},
     "output_type": "execute_result"
    },
    {
     "data": {
      "image/png": "[encoded data removed]",
      "text/plain": [
       "<Figure size 1152x288 with 1 Axes>"
      ]
     },
     "metadata": {
      "needs_background": "light"
     },
     "output_type": "display_data"
    }
   ],
   "source": [
    "#Line Chart of twitter user's likes and retweets\n",
    "time_likes = pd.Series(data=df['likes'].values, index=df['date'])\n",
    "time_likes.plot(figsize=(16, 4), label=\"likes\", legend=True)\n",
    "\n",
    "time_retweets = pd.Series(data=df['retweets'].values, index=df['date'])\n",
    "time_retweets.plot(figsize=(16, 4), label=\"retweets\", legend=True)\n",
    "plt.title(\"Twitter User \" + screen_name + \" Likes & Retweets chart\") "
   ]
  },
  {
   "cell_type": "code",
   "execution_count": 8,
   "id": "5489755a",
   "metadata": {},
   "outputs": [
    {
     "name": "stdout",
     "output_type": "stream",
     "text": [
      "Requirement already satisfied: numpy in c:\\users\\black\\appdata\\local\\programs\\python\\python39\\lib\\site-packages (1.20.3)\n"
     ]
    },
    {
     "name": "stderr",
     "output_type": "stream",
     "text": [
      "WARNING: You are using pip version 21.1.2; however, version 21.1.3 is available.\n",
      "You should consider upgrading via the 'c:\\users\\black\\appdata\\local\\programs\\python\\python39\\python.exe -m pip install --upgrade pip' command.\n"
     ]
    }
   ],
   "source": [
    "import sys\n",
    "!{sys.executable} -m pip install numpy"
   ]
  },
  {
   "cell_type": "code",
   "execution_count": 9,
   "id": "3ff07a3b",
   "metadata": {},
   "outputs": [
    {
     "name": "stdout",
     "output_type": "stream",
     "text": [
      "Collecting WordCloud\n",
      "  Using cached wordcloud-1.8.1.tar.gz (220 kB)\n",
      "Requirement already satisfied: numpy>=1.6.1 in c:\\users\\black\\appdata\\local\\programs\\python\\python39\\lib\\site-packages (from WordCloud) (1.20.3)\n",
      "Requirement already satisfied: pillow in c:\\users\\black\\appdata\\local\\programs\\python\\python39\\lib\\site-packages (from WordCloud) (8.2.0)\n",
      "Requirement already satisfied: matplotlib in c:\\users\\black\\appdata\\local\\programs\\python\\python39\\lib\\site-packages (from WordCloud) (3.4.2)\n",
      "Requirement already satisfied: python-dateutil>=2.7 in c:\\users\\black\\appdata\\local\\programs\\python\\python39\\lib\\site-packages (from matplotlib->WordCloud) (2.8.1)\n",
      "Requirement already satisfied: pyparsing>=2.2.1 in c:\\users\\black\\appdata\\local\\programs\\python\\python39\\lib\\site-packages (from matplotlib->WordCloud) (2.4.7)\n",
      "Requirement already satisfied: cycler>=0.10 in c:\\users\\black\\appdata\\local\\programs\\python\\python39\\lib\\site-packages (from matplotlib->WordCloud) (0.10.0)\n",
      "Requirement already satisfied: kiwisolver>=1.0.1 in c:\\users\\black\\appdata\\local\\programs\\python\\python39\\lib\\site-packages (from matplotlib->WordCloud) (1.3.1)\n",
      "Requirement already satisfied: six in c:\\users\\black\\appdata\\local\\programs\\python\\python39\\lib\\site-packages (from cycler>=0.10->matplotlib->WordCloud) (1.16.0)\n",
      "Using legacy 'setup.py install' for WordCloud, since package 'wheel' is not installed.\n",
      "Installing collected packages: WordCloud\n",
      "    Running setup.py install for WordCloud: started\n",
      "    Running setup.py install for WordCloud: finished with status 'error'\n"
     ]
    },
    {
     "name": "stderr",
     "output_type": "stream",
     "text": [
      "    ERROR: Command errored out with exit status 1:\n",
      "     command: 'c:\\users\\black\\appdata\\local\\programs\\python\\python39\\python.exe' -u -c 'import io, os, sys, setuptools, tokenize; sys.argv[0] = '\"'\"'C:\\\\Users\\\\black\\\\AppData\\\\Local\\\\Temp\\\\pip-install-9kjwcjz_\\\\wordcloud_4819514fa86c4ef2ba439adc03014bc4\\\\setup.py'\"'\"'; __file__='\"'\"'C:\\\\Users\\\\black\\\\AppData\\\\Local\\\\Temp\\\\pip-install-9kjwcjz_\\\\wordcloud_4819514fa86c4ef2ba439adc03014bc4\\\\setup.py'\"'\"';f = getattr(tokenize, '\"'\"'open'\"'\"', open)(__file__) if os.path.exists(__file__) else io.StringIO('\"'\"'from setuptools import setup; setup()'\"'\"');code = f.read().replace('\"'\"'\\r\\n'\"'\"', '\"'\"'\\n'\"'\"');f.close();exec(compile(code, __file__, '\"'\"'exec'\"'\"'))' install --record 'C:\\Users\\black\\AppData\\Local\\Temp\\pip-record-dg9x8rdh\\install-record.txt' --single-version-externally-managed --compile --install-headers 'c:\\users\\black\\appdata\\local\\programs\\python\\python39\\Include\\WordCloud'\n",
      "         cwd: C:\\Users\\black\\AppData\\Local\\Temp\\pip-install-9kjwcjz_\\wordcloud_4819514fa86c4ef2ba439adc03014bc4\\\n",
      "    Complete output (20 lines):\n",
      "    running install\n",
      "    running build\n",
      "    running build_py\n",
      "    creating build\n",
      "    creating build\\lib.win-amd64-3.9\n",
      "    creating build\\lib.win-amd64-3.9\\wordcloud\n",
      "    copying wordcloud\\color_from_image.py -> build\\lib.win-amd64-3.9\\wordcloud\n",
      "    copying wordcloud\\tokenization.py -> build\\lib.win-amd64-3.9\\wordcloud\n",
      "    copying wordcloud\\wordcloud.py -> build\\lib.win-amd64-3.9\\wordcloud\n",
      "    copying wordcloud\\wordcloud_cli.py -> build\\lib.win-amd64-3.9\\wordcloud\n",
      "    copying wordcloud\\_version.py -> build\\lib.win-amd64-3.9\\wordcloud\n",
      "    copying wordcloud\\__init__.py -> build\\lib.win-amd64-3.9\\wordcloud\n",
      "    copying wordcloud\\__main__.py -> build\\lib.win-amd64-3.9\\wordcloud\n",
      "    copying wordcloud\\stopwords -> build\\lib.win-amd64-3.9\\wordcloud\n",
      "    copying wordcloud\\DroidSansMono.ttf -> build\\lib.win-amd64-3.9\\wordcloud\n",
      "    UPDATING build\\lib.win-amd64-3.9\\wordcloud/_version.py\n",
      "    set build\\lib.win-amd64-3.9\\wordcloud/_version.py to '1.8.1'\n",
      "    running build_ext\n",
      "    building 'wordcloud.query_integral_image' extension\n",
      "    error: Microsoft Visual C++ 14.0 or greater is required. Get it with \"Microsoft C++ Build Tools\": https://visualstudio.microsoft.com/visual-cpp-build-tools/\n",
      "    ----------------------------------------\n",
      "ERROR: Command errored out with exit status 1: 'c:\\users\\black\\appdata\\local\\programs\\python\\python39\\python.exe' -u -c 'import io, os, sys, setuptools, tokenize; sys.argv[0] = '\"'\"'C:\\\\Users\\\\black\\\\AppData\\\\Local\\\\Temp\\\\pip-install-9kjwcjz_\\\\wordcloud_4819514fa86c4ef2ba439adc03014bc4\\\\setup.py'\"'\"'; __file__='\"'\"'C:\\\\Users\\\\black\\\\AppData\\\\Local\\\\Temp\\\\pip-install-9kjwcjz_\\\\wordcloud_4819514fa86c4ef2ba439adc03014bc4\\\\setup.py'\"'\"';f = getattr(tokenize, '\"'\"'open'\"'\"', open)(__file__) if os.path.exists(__file__) else io.StringIO('\"'\"'from setuptools import setup; setup()'\"'\"');code = f.read().replace('\"'\"'\\r\\n'\"'\"', '\"'\"'\\n'\"'\"');f.close();exec(compile(code, __file__, '\"'\"'exec'\"'\"'))' install --record 'C:\\Users\\black\\AppData\\Local\\Temp\\pip-record-dg9x8rdh\\install-record.txt' --single-version-externally-managed --compile --install-headers 'c:\\users\\black\\appdata\\local\\programs\\python\\python39\\Include\\WordCloud' Check the logs for full command output.\n",
      "WARNING: You are using pip version 21.1.2; however, version 21.1.3 is available.\n",
      "You should consider upgrading via the 'c:\\users\\black\\appdata\\local\\programs\\python\\python39\\python.exe -m pip install --upgrade pip' command.\n"
     ]
    }
   ],
   "source": [
    "!pip install WordCloud"
   ]
  },
  {
   "cell_type": "code",
   "execution_count": 10,
   "id": "3ce03ad2",
   "metadata": {},
   "outputs": [],
   "source": [
    "consumerKey = 'jzn0NU9EviCRRbONbUXX9a8VN'\n",
    "consumerSecret = 'ULsKu9BjBPmZ3yY5NdS6EXUhGBNWKUWxtwKqFktBeqsOq1Y3ZQ'\n",
    "accessToken = '781482721-6928Gtnj95bK82PW3fYDxHFvU5T4l3SPI4VVF1X2'\n",
    "accessTokenSecret = 'fTxclLJ4oxEmqshRhSbBibGoUiNq1l6941C0VyREdTf41'\n",
    "auth = tweepy.OAuthHandler(consumerKey, consumerSecret)\n",
    "auth.set_access_token(accessToken, accessTokenSecret)\n",
    "api = tweepy.API(auth)"
   ]
  },
  {
   "cell_type": "code",
   "execution_count": 11,
   "id": "933f79ce",
   "metadata": {},
   "outputs": [],
   "source": [
    "#Define tweetSearch\n",
    "def tweetSearch(query, limit = 1000, language = \"en\", remove = []):  \n",
    "    text = \"\"\n",
    "    for tweet in tweepy.Cursor(api.search, q=query, lang=language).items(limit):\n",
    "        text += tweet.text.lower()\n",
    "    #removed unwanted words\n",
    "    removeWords = [\"https\",\"co\"]\n",
    "    removeWords += remove\n",
    "    #Replace unwanted words with empty space\n",
    "    text = text.replace(word, \"\") \n",
    "    #return clean text\n",
    "    return text\n",
    "#     search = tweetSearch(“datascience”)\n",
    "#     wordcloud = WordCloud().generate(search)"
   ]
  },
  {
   "cell_type": "code",
   "execution_count": 12,
   "id": "6175b704",
   "metadata": {},
   "outputs": [
    {
     "ename": "SyntaxError",
     "evalue": "invalid character '’' (U+2019) (<ipython-input-12-f430b6316ae2>, line 2)",
     "output_type": "error",
     "traceback": [
      "\u001b[1;36m  File \u001b[1;32m\"<ipython-input-12-f430b6316ae2>\"\u001b[1;36m, line \u001b[1;32m2\u001b[0m\n\u001b[1;33m    plt.imshow(wordcloud, interpolation=’bilinear’)\u001b[0m\n\u001b[1;37m                                        ^\u001b[0m\n\u001b[1;31mSyntaxError\u001b[0m\u001b[1;31m:\u001b[0m invalid character '’' (U+2019)\n"
     ]
    }
   ],
   "source": [
    "plt.figure(figsize=(12,6))\n",
    "plt.imshow(wordcloud, interpolation=’bilinear’)\n",
    "plt.axis(“off”)\n",
    "plt.show()search = tweetSearch(“datascience”)"
   ]
  },
  {
   "cell_type": "code",
   "execution_count": null,
   "id": "bdd02b4c",
   "metadata": {},
   "outputs": [],
   "source": []
  }
 ],
 "metadata": {
  "kernelspec": {
   "display_name": "Python 3",
   "language": "python",
   "name": "python3"
  },
  "language_info": {
   "codemirror_mode": {
    "name": "ipython",
    "version": 3
   },
   "file_extension": ".py",
   "mimetype": "text/x-python",
   "name": "python",
   "nbconvert_exporter": "python",
   "pygments_lexer": "ipython3",
   "version": "3.9.5"
  }
 },
 "nbformat": 4,
 "nbformat_minor": 5
}
