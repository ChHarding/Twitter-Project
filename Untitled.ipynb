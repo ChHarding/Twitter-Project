{
 "cells": [
  {
   "cell_type": "code",
   "execution_count": 1,
   "id": "9c6ca3dd",
   "metadata": {},
   "outputs": [],
   "source": [
    "import pandas as pd\n",
    "import numpy as np\n",
    "import matplotlib.pyplot as plt\n",
    "import time\n",
    "import tweepy\n",
    "import re"
   ]
  },
  {
   "cell_type": "code",
   "execution_count": 2,
   "id": "c732fcf2",
   "metadata": {},
   "outputs": [],
   "source": [
    "consumer_key = \"jzn0NU9EviCRRbONbUXX9a8VN\"\n",
    "consumer_secret = \"ULsKu9BjBPmZ3yY5NdS6EXUhGBNWKUWxtwKqFktBeqsOq1Y3ZQ\"\n",
    "access_key = \"781482721-6928Gtnj95bK82PW3fYDxHFvU5T4l3SPI4VVF1X2\"\n",
    "access_secret = \"fTxclLJ4oxEmqshRhSbBibGoUiNq1l6941C0VyREdTf41\"\n",
    "\n",
    "def initialize():\n",
    "    auth = tweepy.OAuthHandler(consumer_key, consumer_secret)\n",
    "    auth.set_access_token(access_key, access_secret)\n",
    "    api = tweepy.API(auth, parser = tweepy.parsers.JSONParser())\n",
    "    return api\n",
    "api = initialize()"
   ]
  },
  {
   "cell_type": "code",
   "execution_count": 3,
   "id": "3c433e01",
   "metadata": {},
   "outputs": [],
   "source": [
    "comp_searches = (\"@socialmedia2day\", \"@GoogleAds\", \"@Instagram\", \"@Facebook\", \"@Twitter\")"
   ]
  },
  {
   "cell_type": "code",
   "execution_count": 4,
   "id": "6c8fdd4d",
   "metadata": {},
   "outputs": [],
   "source": [
    "# Array to hold sentiment\n",
    "sentiments = []\n",
    "# Iterate through all the comp_searches\n",
    "for search in comp_searches:\n",
    "       \n",
    "    # Bring out the 200 tweets\n",
    "    comp_tweets = api.user_timeline(search, count=200)#counts how many tweets per account in variable comp_search\n",
    "    #1000 tweets divided by 5 accounts is 200\n",
    "    #200 counts tweets per account will be iterated as sufficient data amount\n",
    "    \n",
    "    # Loop through the most recent 200 tweets\n",
    "    for tweet in comp_tweets:\n",
    "        text = tweet[\"text\"]\n",
    "        \n",
    "     # Add each value to the appropriate array #\n",
    "     #pulls Tweets & replies from specified Twitter account\n",
    "        sentiments.append({\"User\": search,\n",
    "                           \"text\":text, \n",
    "                       \"Date\": tweet[\"created_at\"] \n",
    "                        })"
   ]
  },
  {
   "cell_type": "code",
   "execution_count": 5,
   "id": "ab084e19",
   "metadata": {},
   "outputs": [
    {
     "data": {
      "text/html": [
       "<div>\n",
       "<style scoped>\n",
       "    .dataframe tbody tr th:only-of-type {\n",
       "        vertical-align: middle;\n",
       "    }\n",
       "\n",
       "    .dataframe tbody tr th {\n",
       "        vertical-align: top;\n",
       "    }\n",
       "\n",
       "    .dataframe thead th {\n",
       "        text-align: right;\n",
       "    }\n",
       "</style>\n",
       "<table border=\"1\" class=\"dataframe\">\n",
       "  <thead>\n",
       "    <tr style=\"text-align: right;\">\n",
       "      <th></th>\n",
       "      <th>User</th>\n",
       "      <th>text</th>\n",
       "      <th>Date</th>\n",
       "    </tr>\n",
       "  </thead>\n",
       "  <tbody>\n",
       "    <tr>\n",
       "      <th>0</th>\n",
       "      <td>@socialmedia2day</td>\n",
       "      <td>Helpful tips for brands from the TikTok team.\\...</td>\n",
       "      <td>Sat Jul 03 00:30:03 +0000 2021</td>\n",
       "    </tr>\n",
       "    <tr>\n",
       "      <th>1</th>\n",
       "      <td>@socialmedia2day</td>\n",
       "      <td>Female representation in managerial roles in M...</td>\n",
       "      <td>Fri Jul 02 23:45:02 +0000 2021</td>\n",
       "    </tr>\n",
       "    <tr>\n",
       "      <th>2</th>\n",
       "      <td>@socialmedia2day</td>\n",
       "      <td>@LinkedIn included some interesting case studi...</td>\n",
       "      <td>Fri Jul 02 23:05:02 +0000 2021</td>\n",
       "    </tr>\n",
       "    <tr>\n",
       "      <th>3</th>\n",
       "      <td>@socialmedia2day</td>\n",
       "      <td>Facebook wants to help people \"build a greener...</td>\n",
       "      <td>Fri Jul 02 22:00:15 +0000 2021</td>\n",
       "    </tr>\n",
       "    <tr>\n",
       "      <th>4</th>\n",
       "      <td>@socialmedia2day</td>\n",
       "      <td>Need ideas for your next post? Check out this ...</td>\n",
       "      <td>Fri Jul 02 21:30:09 +0000 2021</td>\n",
       "    </tr>\n",
       "    <tr>\n",
       "      <th>...</th>\n",
       "      <td>...</td>\n",
       "      <td>...</td>\n",
       "      <td>...</td>\n",
       "    </tr>\n",
       "    <tr>\n",
       "      <th>995</th>\n",
       "      <td>@Twitter</td>\n",
       "      <td>@noealz You got Rare Form https://t.co/v4ZCNFyba4</td>\n",
       "      <td>Wed Jun 30 16:55:37 +0000 2021</td>\n",
       "    </tr>\n",
       "    <tr>\n",
       "      <th>996</th>\n",
       "      <td>@Twitter</td>\n",
       "      <td>@sculpturings we'd LIKE to give you something....</td>\n",
       "      <td>Wed Jun 30 16:54:23 +0000 2021</td>\n",
       "    </tr>\n",
       "    <tr>\n",
       "      <th>997</th>\n",
       "      <td>@Twitter</td>\n",
       "      <td>@melinasalas Es posible que tengamos algo que ...</td>\n",
       "      <td>Wed Jun 30 16:49:43 +0000 2021</td>\n",
       "    </tr>\n",
       "    <tr>\n",
       "      <th>998</th>\n",
       "      <td>@Twitter</td>\n",
       "      <td>@toddg777 loving the resume, let's chat in the...</td>\n",
       "      <td>Wed Jun 30 16:43:42 +0000 2021</td>\n",
       "    </tr>\n",
       "    <tr>\n",
       "      <th>999</th>\n",
       "      <td>@Twitter</td>\n",
       "      <td>@Adriyoung SO LOUD! CHECK YOUR DMS!</td>\n",
       "      <td>Wed Jun 30 16:28:38 +0000 2021</td>\n",
       "    </tr>\n",
       "  </tbody>\n",
       "</table>\n",
       "<p>1000 rows × 3 columns</p>\n",
       "</div>"
      ],
      "text/plain": [
       "                 User                                               text  \\\n",
       "0    @socialmedia2day  Helpful tips for brands from the TikTok team.\\...   \n",
       "1    @socialmedia2day  Female representation in managerial roles in M...   \n",
       "2    @socialmedia2day  @LinkedIn included some interesting case studi...   \n",
       "3    @socialmedia2day  Facebook wants to help people \"build a greener...   \n",
       "4    @socialmedia2day  Need ideas for your next post? Check out this ...   \n",
       "..                ...                                                ...   \n",
       "995          @Twitter  @noealz You got Rare Form https://t.co/v4ZCNFyba4   \n",
       "996          @Twitter  @sculpturings we'd LIKE to give you something....   \n",
       "997          @Twitter  @melinasalas Es posible que tengamos algo que ...   \n",
       "998          @Twitter  @toddg777 loving the resume, let's chat in the...   \n",
       "999          @Twitter                @Adriyoung SO LOUD! CHECK YOUR DMS!   \n",
       "\n",
       "                               Date  \n",
       "0    Sat Jul 03 00:30:03 +0000 2021  \n",
       "1    Fri Jul 02 23:45:02 +0000 2021  \n",
       "2    Fri Jul 02 23:05:02 +0000 2021  \n",
       "3    Fri Jul 02 22:00:15 +0000 2021  \n",
       "4    Fri Jul 02 21:30:09 +0000 2021  \n",
       "..                              ...  \n",
       "995  Wed Jun 30 16:55:37 +0000 2021  \n",
       "996  Wed Jun 30 16:54:23 +0000 2021  \n",
       "997  Wed Jun 30 16:49:43 +0000 2021  \n",
       "998  Wed Jun 30 16:43:42 +0000 2021  \n",
       "999  Wed Jun 30 16:28:38 +0000 2021  \n",
       "\n",
       "[1000 rows x 3 columns]"
      ]
     },
     "execution_count": 5,
     "metadata": {},
     "output_type": "execute_result"
    }
   ],
   "source": [
    "import pandas as pd\n",
    "#convert array to dataframe\n",
    "df = pd.DataFrame.from_dict(sentiments)\n",
    "df.head(1002)#limit is 1000 rows"
   ]
  },
  {
   "cell_type": "code",
   "execution_count": 6,
   "id": "4d86ccea",
   "metadata": {},
   "outputs": [
    {
     "name": "stdout",
     "output_type": "stream",
     "text": [
      "Requirement already satisfied: VaderSentiment in c:\\users\\black\\appdata\\local\\programs\\python\\python39\\lib\\site-packages (3.3.2)\n",
      "Requirement already satisfied: requests in c:\\users\\black\\appdata\\local\\programs\\python\\python39\\lib\\site-packages (from VaderSentiment) (2.25.1)\n",
      "Requirement already satisfied: idna<3,>=2.5 in c:\\users\\black\\appdata\\local\\programs\\python\\python39\\lib\\site-packages (from requests->VaderSentiment) (2.10)\n",
      "Requirement already satisfied: urllib3<1.27,>=1.21.1 in c:\\users\\black\\appdata\\local\\programs\\python\\python39\\lib\\site-packages (from requests->VaderSentiment) (1.26.5)\n",
      "Requirement already satisfied: chardet<5,>=3.0.2 in c:\\users\\black\\appdata\\local\\programs\\python\\python39\\lib\\site-packages (from requests->VaderSentiment) (4.0.0)\n",
      "Requirement already satisfied: certifi>=2017.4.17 in c:\\users\\black\\appdata\\local\\programs\\python\\python39\\lib\\site-packages (from requests->VaderSentiment) (2021.5.30)\n"
     ]
    },
    {
     "name": "stderr",
     "output_type": "stream",
     "text": [
      "WARNING: You are using pip version 21.1.2; however, version 21.1.3 is available.\n",
      "You should consider upgrading via the 'c:\\users\\black\\appdata\\local\\programs\\python\\python39\\python.exe -m pip install --upgrade pip' command.\n"
     ]
    }
   ],
   "source": [
    "!pip install VaderSentiment\n",
    "\n",
    "from vaderSentiment.vaderSentiment import SentimentIntensityAnalyzer\n",
    "analyzer = SentimentIntensityAnalyzer()"
   ]
  },
  {
   "cell_type": "code",
   "execution_count": 7,
   "id": "aff22e05",
   "metadata": {},
   "outputs": [],
   "source": [
    "scores = []\n",
    "# Declare variables for scores\n",
    "compound_list = []\n",
    "positive_list = []\n",
    "negative_list = []\n",
    "neutral_list = []\n",
    "for i in range(df['text'].shape[0]):\n",
    "#print(analyser.polarity_scores(sentiments_pd['text'][i]))\n",
    "    compound = analyzer.polarity_scores(df['text'][i])[\"compound\"]\n",
    "    pos = analyzer.polarity_scores(df['text'][i])[\"pos\"]\n",
    "    neu = analyzer.polarity_scores(df['text'][i])[\"neu\"]\n",
    "    neg = analyzer.polarity_scores(df['text'][i])[\"neg\"]\n",
    "    \n",
    "    scores.append({\"Compound\": compound,\n",
    "                       \"Positive\": pos,\n",
    "                       \"Negative\": neg,\n",
    "                       \"Neutral\": neu\n",
    "                  })"
   ]
  },
  {
   "cell_type": "code",
   "execution_count": 8,
   "id": "9694a0e2",
   "metadata": {},
   "outputs": [
    {
     "data": {
      "text/html": [
       "<div>\n",
       "<style scoped>\n",
       "    .dataframe tbody tr th:only-of-type {\n",
       "        vertical-align: middle;\n",
       "    }\n",
       "\n",
       "    .dataframe tbody tr th {\n",
       "        vertical-align: top;\n",
       "    }\n",
       "\n",
       "    .dataframe thead th {\n",
       "        text-align: right;\n",
       "    }\n",
       "</style>\n",
       "<table border=\"1\" class=\"dataframe\">\n",
       "  <thead>\n",
       "    <tr style=\"text-align: right;\">\n",
       "      <th></th>\n",
       "      <th>User</th>\n",
       "      <th>text</th>\n",
       "      <th>Date</th>\n",
       "      <th>Compound</th>\n",
       "      <th>Positive</th>\n",
       "      <th>Negative</th>\n",
       "      <th>Neutral</th>\n",
       "    </tr>\n",
       "  </thead>\n",
       "  <tbody>\n",
       "    <tr>\n",
       "      <th>0</th>\n",
       "      <td>@socialmedia2day</td>\n",
       "      <td>Helpful tips for brands from the TikTok team.\\...</td>\n",
       "      <td>Sat Jul 03 00:30:03 +0000 2021</td>\n",
       "      <td>0.4215</td>\n",
       "      <td>0.259</td>\n",
       "      <td>0.0</td>\n",
       "      <td>0.741</td>\n",
       "    </tr>\n",
       "    <tr>\n",
       "      <th>1</th>\n",
       "      <td>@socialmedia2day</td>\n",
       "      <td>Female representation in managerial roles in M...</td>\n",
       "      <td>Fri Jul 02 23:45:02 +0000 2021</td>\n",
       "      <td>0.5106</td>\n",
       "      <td>0.142</td>\n",
       "      <td>0.0</td>\n",
       "      <td>0.858</td>\n",
       "    </tr>\n",
       "    <tr>\n",
       "      <th>2</th>\n",
       "      <td>@socialmedia2day</td>\n",
       "      <td>@LinkedIn included some interesting case studi...</td>\n",
       "      <td>Fri Jul 02 23:05:02 +0000 2021</td>\n",
       "      <td>0.5859</td>\n",
       "      <td>0.324</td>\n",
       "      <td>0.0</td>\n",
       "      <td>0.676</td>\n",
       "    </tr>\n",
       "    <tr>\n",
       "      <th>3</th>\n",
       "      <td>@socialmedia2day</td>\n",
       "      <td>Facebook wants to help people \"build a greener...</td>\n",
       "      <td>Fri Jul 02 22:00:15 +0000 2021</td>\n",
       "      <td>0.4019</td>\n",
       "      <td>0.231</td>\n",
       "      <td>0.0</td>\n",
       "      <td>0.769</td>\n",
       "    </tr>\n",
       "    <tr>\n",
       "      <th>4</th>\n",
       "      <td>@socialmedia2day</td>\n",
       "      <td>Need ideas for your next post? Check out this ...</td>\n",
       "      <td>Fri Jul 02 21:30:09 +0000 2021</td>\n",
       "      <td>0.5411</td>\n",
       "      <td>0.212</td>\n",
       "      <td>0.0</td>\n",
       "      <td>0.788</td>\n",
       "    </tr>\n",
       "  </tbody>\n",
       "</table>\n",
       "</div>"
      ],
      "text/plain": [
       "               User                                               text  \\\n",
       "0  @socialmedia2day  Helpful tips for brands from the TikTok team.\\...   \n",
       "1  @socialmedia2day  Female representation in managerial roles in M...   \n",
       "2  @socialmedia2day  @LinkedIn included some interesting case studi...   \n",
       "3  @socialmedia2day  Facebook wants to help people \"build a greener...   \n",
       "4  @socialmedia2day  Need ideas for your next post? Check out this ...   \n",
       "\n",
       "                             Date  Compound  Positive  Negative  Neutral  \n",
       "0  Sat Jul 03 00:30:03 +0000 2021    0.4215     0.259       0.0    0.741  \n",
       "1  Fri Jul 02 23:45:02 +0000 2021    0.5106     0.142       0.0    0.858  \n",
       "2  Fri Jul 02 23:05:02 +0000 2021    0.5859     0.324       0.0    0.676  \n",
       "3  Fri Jul 02 22:00:15 +0000 2021    0.4019     0.231       0.0    0.769  \n",
       "4  Fri Jul 02 21:30:09 +0000 2021    0.5411     0.212       0.0    0.788  "
      ]
     },
     "execution_count": 8,
     "metadata": {},
     "output_type": "execute_result"
    }
   ],
   "source": [
    "sentiments_score = pd.DataFrame.from_dict(scores)\n",
    "df = df.join(sentiments_score)\n",
    "df.head()"
   ]
  },
  {
   "cell_type": "code",
   "execution_count": 9,
   "id": "c95f9aa0",
   "metadata": {},
   "outputs": [
    {
     "data": {
      "text/plain": [
       "['SMTLive',\n",
       " 'SMTLive',\n",
       " 'SMTLive',\n",
       " 'SMTLive',\n",
       " 'startup',\n",
       " 'SmallBusinessWeek',\n",
       " 'SmallBusinessWeek',\n",
       " 'ecommerce',\n",
       " 'GML2021',\n",
       " 'GoogleIO',\n",
       " 'GML2021',\n",
       " 'GoogleAdsTutorials',\n",
       " 'GoogleIO',\n",
       " 'WomensHistoryMonth',\n",
       " 'GoogleForIndia',\n",
       " 'WomenWill',\n",
       " 'GoogleAdsTutorials',\n",
       " 'WomensHistoryMonth',\n",
       " 'GooglePartners',\n",
       " 'BlackHistoryMonth',\n",
       " 'Web',\n",
       " 'Pride',\n",
       " 'ShareWithPride',\n",
       " 'Pride',\n",
       " 'NationalBestFriendsDay',\n",
       " 'Pride',\n",
       " 'Pride',\n",
       " 'pride',\n",
       " 'pridefamily',\n",
       " 'genderfluid',\n",
       " 'gayvisibility',\n",
       " 'Pride',\n",
       " 'Pride',\n",
       " 'ShareWithPride',\n",
       " 'TakeABreak',\n",
       " 'MentalHealthAwarenessMonth',\n",
       " 'WeeklyFluff',\n",
       " 'this',\n",
       " 'MothersDay',\n",
       " 'MayThe4thBeWithYou',\n",
       " 'TakeABreak',\n",
       " 'APIHM',\n",
       " 'NFLdraft',\n",
       " 'NationalPetDay',\n",
       " 'WeeklyFluff',\n",
       " 'WeeklyFluff',\n",
       " 'Pride',\n",
       " 'JuneTeenth2021',\n",
       " 'WorldBloodDonorDay',\n",
       " 'pride',\n",
       " 'pride',\n",
       " 'Pride',\n",
       " 'APAHM',\n",
       " 'EarthDay',\n",
       " 'EarthDay']"
      ]
     },
     "execution_count": 9,
     "metadata": {},
     "output_type": "execute_result"
    }
   ],
   "source": [
    "#collects the positive hashtags from the tweets data\n",
    "HT_positive = []\n",
    "def hashtag_extract(x):\n",
    "    hashtags = []\n",
    "    # Loop over the words in the tweet\n",
    "    for i in x:\n",
    "        ht = re.findall(r\"#(\\w+)\", i)\n",
    "        hashtags.append(ht)\n",
    "    return hashtags\n",
    "# extracting hashtags from positive tweetsHT_positive = hashtag_extract(df_tws['text'][df_tws['sent'] == 1])\n",
    "# extracting hashtags from  tweets\n",
    "HT_positive = hashtag_extract(df['text'][df['Compound'] > 0.5])\n",
    "# unnesting list\n",
    "HT_positive = sum(HT_positive,[])\n",
    "HT_positive"
   ]
  },
  {
   "cell_type": "code",
   "execution_count": 10,
   "id": "462654f5",
   "metadata": {},
   "outputs": [
    {
     "data": {
      "text/html": [
       "<div>\n",
       "<style scoped>\n",
       "    .dataframe tbody tr th:only-of-type {\n",
       "        vertical-align: middle;\n",
       "    }\n",
       "\n",
       "    .dataframe tbody tr th {\n",
       "        vertical-align: top;\n",
       "    }\n",
       "\n",
       "    .dataframe thead th {\n",
       "        text-align: right;\n",
       "    }\n",
       "</style>\n",
       "<table border=\"1\" class=\"dataframe\">\n",
       "  <thead>\n",
       "    <tr style=\"text-align: right;\">\n",
       "      <th></th>\n",
       "      <th>Compound</th>\n",
       "    </tr>\n",
       "    <tr>\n",
       "      <th>User</th>\n",
       "      <th></th>\n",
       "    </tr>\n",
       "  </thead>\n",
       "  <tbody>\n",
       "    <tr>\n",
       "      <th>@Facebook</th>\n",
       "      <td>0.322484</td>\n",
       "    </tr>\n",
       "    <tr>\n",
       "      <th>@GoogleAds</th>\n",
       "      <td>0.317868</td>\n",
       "    </tr>\n",
       "    <tr>\n",
       "      <th>@Instagram</th>\n",
       "      <td>0.304558</td>\n",
       "    </tr>\n",
       "    <tr>\n",
       "      <th>@Twitter</th>\n",
       "      <td>0.135547</td>\n",
       "    </tr>\n",
       "    <tr>\n",
       "      <th>@socialmedia2day</th>\n",
       "      <td>0.276501</td>\n",
       "    </tr>\n",
       "  </tbody>\n",
       "</table>\n",
       "</div>"
      ],
      "text/plain": [
       "                  Compound\n",
       "User                      \n",
       "@Facebook         0.322484\n",
       "@GoogleAds        0.317868\n",
       "@Instagram        0.304558\n",
       "@Twitter          0.135547\n",
       "@socialmedia2day  0.276501"
      ]
     },
     "execution_count": 10,
     "metadata": {},
     "output_type": "execute_result"
    }
   ],
   "source": [
    "#Collect the compound values for each news source\n",
    "score_table = df.pivot_table(index='User',  values=\"Compound\", aggfunc = np.mean)\n",
    "score_table"
   ]
  },
  {
   "cell_type": "code",
   "execution_count": 11,
   "id": "eec1e75c",
   "metadata": {},
   "outputs": [
    {
     "data": {
      "text/plain": [
       "<AxesSubplot:xlabel='User'>"
      ]
     },
     "execution_count": 11,
     "metadata": {},
     "output_type": "execute_result"
    },
    {
     "data": {
      "image/png": "[encoded data removed]",
      "text/plain": [
       "<Figure size 432x288 with 1 Axes>"
      ]
     },
     "metadata": {
      "needs_background": "light"
     },
     "output_type": "display_data"
    }
   ],
   "source": [
    "#plotting \n",
    "score_table.plot(kind='bar')"
   ]
  },
  {
   "cell_type": "code",
   "execution_count": 12,
   "id": "31ba0160",
   "metadata": {},
   "outputs": [
    {
     "data": {
      "text/html": [
       "<div>\n",
       "<style scoped>\n",
       "    .dataframe tbody tr th:only-of-type {\n",
       "        vertical-align: middle;\n",
       "    }\n",
       "\n",
       "    .dataframe tbody tr th {\n",
       "        vertical-align: top;\n",
       "    }\n",
       "\n",
       "    .dataframe thead th {\n",
       "        text-align: right;\n",
       "    }\n",
       "</style>\n",
       "<table border=\"1\" class=\"dataframe\">\n",
       "  <thead>\n",
       "    <tr style=\"text-align: right;\">\n",
       "      <th></th>\n",
       "      <th>Positive</th>\n",
       "    </tr>\n",
       "    <tr>\n",
       "      <th>User</th>\n",
       "      <th></th>\n",
       "    </tr>\n",
       "  </thead>\n",
       "  <tbody>\n",
       "    <tr>\n",
       "      <th>@Facebook</th>\n",
       "      <td>0.156140</td>\n",
       "    </tr>\n",
       "    <tr>\n",
       "      <th>@GoogleAds</th>\n",
       "      <td>0.128705</td>\n",
       "    </tr>\n",
       "    <tr>\n",
       "      <th>@Instagram</th>\n",
       "      <td>0.168705</td>\n",
       "    </tr>\n",
       "    <tr>\n",
       "      <th>@Twitter</th>\n",
       "      <td>0.091980</td>\n",
       "    </tr>\n",
       "    <tr>\n",
       "      <th>@socialmedia2day</th>\n",
       "      <td>0.175740</td>\n",
       "    </tr>\n",
       "  </tbody>\n",
       "</table>\n",
       "</div>"
      ],
      "text/plain": [
       "                  Positive\n",
       "User                      \n",
       "@Facebook         0.156140\n",
       "@GoogleAds        0.128705\n",
       "@Instagram        0.168705\n",
       "@Twitter          0.091980\n",
       "@socialmedia2day  0.175740"
      ]
     },
     "execution_count": 12,
     "metadata": {},
     "output_type": "execute_result"
    }
   ],
   "source": [
    "#Collect the compound values for each news source\n",
    "score_table = df.pivot_table(index='User',  values=\"Positive\", aggfunc = np.mean)\n",
    "score_table"
   ]
  },
  {
   "cell_type": "code",
   "execution_count": 13,
   "id": "b4c231a8",
   "metadata": {},
   "outputs": [
    {
     "data": {
      "text/plain": [
       "<AxesSubplot:xlabel='User'>"
      ]
     },
     "execution_count": 13,
     "metadata": {},
     "output_type": "execute_result"
    },
    {
     "data": {
      "image/png": "[encoded data removed]",
      "text/plain": [
       "<Figure size 432x288 with 1 Axes>"
      ]
     },
     "metadata": {
      "needs_background": "light"
     },
     "output_type": "display_data"
    }
   ],
   "source": [
    "#Collect the negative values for each news source\n",
    "pos_score_table = df.pivot_table(index='User',  values=\"Positive\", aggfunc = np.mean)\n",
    "pos_score_table\n",
    "pos_score_table.plot(kind='bar')"
   ]
  },
  {
   "cell_type": "code",
   "execution_count": 14,
   "id": "baab6776",
   "metadata": {},
   "outputs": [
    {
     "data": {
      "text/html": [
       "<div>\n",
       "<style scoped>\n",
       "    .dataframe tbody tr th:only-of-type {\n",
       "        vertical-align: middle;\n",
       "    }\n",
       "\n",
       "    .dataframe tbody tr th {\n",
       "        vertical-align: top;\n",
       "    }\n",
       "\n",
       "    .dataframe thead th {\n",
       "        text-align: right;\n",
       "    }\n",
       "</style>\n",
       "<table border=\"1\" class=\"dataframe\">\n",
       "  <thead>\n",
       "    <tr style=\"text-align: right;\">\n",
       "      <th></th>\n",
       "      <th>Negative</th>\n",
       "    </tr>\n",
       "    <tr>\n",
       "      <th>User</th>\n",
       "      <th></th>\n",
       "    </tr>\n",
       "  </thead>\n",
       "  <tbody>\n",
       "    <tr>\n",
       "      <th>@Facebook</th>\n",
       "      <td>0.026840</td>\n",
       "    </tr>\n",
       "    <tr>\n",
       "      <th>@GoogleAds</th>\n",
       "      <td>0.011170</td>\n",
       "    </tr>\n",
       "    <tr>\n",
       "      <th>@Instagram</th>\n",
       "      <td>0.050325</td>\n",
       "    </tr>\n",
       "    <tr>\n",
       "      <th>@Twitter</th>\n",
       "      <td>0.002855</td>\n",
       "    </tr>\n",
       "    <tr>\n",
       "      <th>@socialmedia2day</th>\n",
       "      <td>0.013520</td>\n",
       "    </tr>\n",
       "  </tbody>\n",
       "</table>\n",
       "</div>"
      ],
      "text/plain": [
       "                  Negative\n",
       "User                      \n",
       "@Facebook         0.026840\n",
       "@GoogleAds        0.011170\n",
       "@Instagram        0.050325\n",
       "@Twitter          0.002855\n",
       "@socialmedia2day  0.013520"
      ]
     },
     "execution_count": 14,
     "metadata": {},
     "output_type": "execute_result"
    }
   ],
   "source": [
    "#Collect the compound values for each news source\n",
    "score_table = df.pivot_table(index='User',  values=\"Negative\", aggfunc = np.mean)\n",
    "score_table"
   ]
  },
  {
   "cell_type": "code",
   "execution_count": 15,
   "id": "d40b4e53",
   "metadata": {},
   "outputs": [
    {
     "data": {
      "text/plain": [
       "<AxesSubplot:xlabel='User'>"
      ]
     },
     "execution_count": 15,
     "metadata": {},
     "output_type": "execute_result"
    },
    {
     "data": {
      "image/png": "[encoded data removed]",
      "text/plain": [
       "<Figure size 432x288 with 1 Axes>"
      ]
     },
     "metadata": {
      "needs_background": "light"
     },
     "output_type": "display_data"
    }
   ],
   "source": [
    "#Collect the negative values for each news source\n",
    "neg_score_table = df.pivot_table(index='User',  values=\"Negative\", aggfunc = np.mean)\n",
    "neg_score_table\n",
    "neg_score_table.plot(kind='bar')"
   ]
  },
  {
   "cell_type": "code",
   "execution_count": 16,
   "id": "43e3df70",
   "metadata": {},
   "outputs": [
    {
     "name": "stdout",
     "output_type": "stream",
     "text": [
      "                   Positive HT\n",
      "0                      SMTLive\n",
      "1                      SMTLive\n",
      "2                      SMTLive\n",
      "3                      SMTLive\n",
      "4                      startup\n",
      "5            SmallBusinessWeek\n",
      "6            SmallBusinessWeek\n",
      "7                    ecommerce\n",
      "8                      GML2021\n",
      "9                     GoogleIO\n",
      "10                     GML2021\n",
      "11          GoogleAdsTutorials\n",
      "12                    GoogleIO\n",
      "13          WomensHistoryMonth\n",
      "14              GoogleForIndia\n",
      "15                   WomenWill\n",
      "16          GoogleAdsTutorials\n",
      "17          WomensHistoryMonth\n",
      "18              GooglePartners\n",
      "19           BlackHistoryMonth\n",
      "20                         Web\n",
      "21                       Pride\n",
      "22              ShareWithPride\n",
      "23                       Pride\n",
      "24      NationalBestFriendsDay\n",
      "25                       Pride\n",
      "26                       Pride\n",
      "27                       pride\n",
      "28                 pridefamily\n",
      "29                 genderfluid\n",
      "30               gayvisibility\n",
      "31                       Pride\n",
      "32                       Pride\n",
      "33              ShareWithPride\n",
      "34                  TakeABreak\n",
      "35  MentalHealthAwarenessMonth\n",
      "36                 WeeklyFluff\n",
      "37                        this\n",
      "38                  MothersDay\n",
      "39          MayThe4thBeWithYou\n",
      "40                  TakeABreak\n",
      "41                       APIHM\n",
      "42                    NFLdraft\n",
      "43              NationalPetDay\n",
      "44                 WeeklyFluff\n",
      "45                 WeeklyFluff\n",
      "46                       Pride\n",
      "47              JuneTeenth2021\n",
      "48          WorldBloodDonorDay\n",
      "49                       pride\n",
      "50                       pride\n",
      "51                       Pride\n",
      "52                       APAHM\n",
      "53                    EarthDay\n",
      "54                    EarthDay\n"
     ]
    }
   ],
   "source": [
    "from pandas import DataFrame\n",
    "#creates list for top positive hashtags used between comp_searches variable \n",
    "from collections import Counter\n",
    "word_appearance_count = dict(Counter(HT_positive))\n",
    "df4 = DataFrame (HT_positive, columns = ['Positive HT'])\n",
    "print(df4)"
   ]
  },
  {
   "cell_type": "code",
   "execution_count": 17,
   "id": "c4cbae08",
   "metadata": {},
   "outputs": [
    {
     "name": "stdout",
     "output_type": "stream",
     "text": [
      "{'SMTLive': 4, 'startup': 1, 'SmallBusinessWeek': 2, 'ecommerce': 1, 'GML2021': 2, 'GoogleIO': 2, 'GoogleAdsTutorials': 2, 'WomensHistoryMonth': 2, 'GoogleForIndia': 1, 'WomenWill': 1, 'GooglePartners': 1, 'BlackHistoryMonth': 1, 'Web': 1, 'Pride': 8, 'ShareWithPride': 2, 'NationalBestFriendsDay': 1, 'pride': 3, 'pridefamily': 1, 'genderfluid': 1, 'gayvisibility': 1, 'TakeABreak': 2, 'MentalHealthAwarenessMonth': 1, 'WeeklyFluff': 3, 'this': 1, 'MothersDay': 1, 'MayThe4thBeWithYou': 1, 'APIHM': 1, 'NFLdraft': 1, 'NationalPetDay': 1, 'JuneTeenth2021': 1, 'WorldBloodDonorDay': 1, 'APAHM': 1, 'EarthDay': 2}\n"
     ]
    }
   ],
   "source": [
    "from collections import Counter\n",
    "a = dict(Counter(HT_positive))\n",
    "print(a)"
   ]
  },
  {
   "cell_type": "code",
   "execution_count": 18,
   "id": "3020faec",
   "metadata": {},
   "outputs": [
    {
     "name": "stdout",
     "output_type": "stream",
     "text": [
      "[('SMTLive', 4), ('startup', 1), ('SmallBusinessWeek', 2), ('ecommerce', 1), ('GML2021', 2), ('GoogleIO', 2), ('GoogleAdsTutorials', 2), ('WomensHistoryMonth', 2), ('GoogleForIndia', 1), ('WomenWill', 1), ('GooglePartners', 1), ('BlackHistoryMonth', 1), ('Web', 1), ('Pride', 8), ('ShareWithPride', 2), ('NationalBestFriendsDay', 1), ('pride', 3), ('pridefamily', 1), ('genderfluid', 1), ('gayvisibility', 1), ('TakeABreak', 2), ('MentalHealthAwarenessMonth', 1), ('WeeklyFluff', 3), ('this', 1), ('MothersDay', 1), ('MayThe4thBeWithYou', 1), ('APIHM', 1), ('NFLdraft', 1), ('NationalPetDay', 1), ('JuneTeenth2021', 1), ('WorldBloodDonorDay', 1), ('APAHM', 1), ('EarthDay', 2)]\n"
     ]
    }
   ],
   "source": [
    "t = list(a.items())\n",
    "print(t)"
   ]
  },
  {
   "cell_type": "code",
   "execution_count": 19,
   "id": "31eafb0f",
   "metadata": {},
   "outputs": [
    {
     "name": "stdout",
     "output_type": "stream",
     "text": [
      "              Positive Hashtag  Number of Occurence\n",
      "0                      SMTLive                    4\n",
      "1                      startup                    1\n",
      "2            SmallBusinessWeek                    2\n",
      "3                    ecommerce                    1\n",
      "4                      GML2021                    2\n",
      "5                     GoogleIO                    2\n",
      "6           GoogleAdsTutorials                    2\n",
      "7           WomensHistoryMonth                    2\n",
      "8               GoogleForIndia                    1\n",
      "9                    WomenWill                    1\n",
      "10              GooglePartners                    1\n",
      "11           BlackHistoryMonth                    1\n",
      "12                         Web                    1\n",
      "13                       Pride                    8\n",
      "14              ShareWithPride                    2\n",
      "15      NationalBestFriendsDay                    1\n",
      "16                       pride                    3\n",
      "17                 pridefamily                    1\n",
      "18                 genderfluid                    1\n",
      "19               gayvisibility                    1\n",
      "20                  TakeABreak                    2\n",
      "21  MentalHealthAwarenessMonth                    1\n",
      "22                 WeeklyFluff                    3\n",
      "23                        this                    1\n",
      "24                  MothersDay                    1\n",
      "25          MayThe4thBeWithYou                    1\n",
      "26                       APIHM                    1\n",
      "27                    NFLdraft                    1\n",
      "28              NationalPetDay                    1\n",
      "29              JuneTeenth2021                    1\n",
      "30          WorldBloodDonorDay                    1\n",
      "31                       APAHM                    1\n",
      "32                    EarthDay                    2\n"
     ]
    }
   ],
   "source": [
    "import pandas as pd\n",
    "#tuples = [(letter, idx) for idx, letter in enumerate(t)]\n",
    "df = pd.DataFrame(t, columns=[\"Positive Hashtag\", \"Number of Occurence\"])\n",
    "print(df)"
   ]
  },
  {
   "cell_type": "code",
   "execution_count": null,
   "id": "a1bbab04",
   "metadata": {},
   "outputs": [],
   "source": [
    "#to see tweets for specific User name\n",
    "#for index in range(5):\n",
    "df = pd.DataFrame.from_dict(sentiments)\n",
    "while True:\n",
    "    i = df_top5tweets = df[ df['User'] == input(\"Enter Twitter username from list only:\")] #@socialmedia2day\", \"@GoogleAds\", \"@Instagram\", \"@Facebook\", \"@Twitter\"\n",
    "    i = str(i)\n",
    "    if i == 1:\n",
    "        print(df_top5tweets.head())\n",
    "        break \n",
    "df_top5tweets.head()"
   ]
  },
  {
   "cell_type": "code",
   "execution_count": null,
   "id": "8dd4d80e",
   "metadata": {},
   "outputs": [],
   "source": []
  }
 ],
 "metadata": {
  "kernelspec": {
   "display_name": "Python 3",
   "language": "python",
   "name": "python3"
  },
  "language_info": {
   "codemirror_mode": {
    "name": "ipython",
    "version": 3
   },
   "file_extension": ".py",
   "mimetype": "text/x-python",
   "name": "python",
   "nbconvert_exporter": "python",
   "pygments_lexer": "ipython3",
   "version": "3.9.5"
  }
 },
 "nbformat": 4,
 "nbformat_minor": 5
}
