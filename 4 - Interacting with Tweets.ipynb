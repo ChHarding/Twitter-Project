{
 "cells": [
  {
   "cell_type": "code",
   "execution_count": 1,
   "id": "3d497b04",
   "metadata": {},
   "outputs": [
    {
     "name": "stdout",
     "output_type": "stream",
     "text": [
      "Requirement already satisfied: pandas in c:\\users\\black\\appdata\\local\\programs\\python\\python39\\lib\\site-packages (1.2.4)\n",
      "Requirement already satisfied: numpy>=1.16.5 in c:\\users\\black\\appdata\\local\\programs\\python\\python39\\lib\\site-packages (from pandas) (1.20.3)\n",
      "Requirement already satisfied: python-dateutil>=2.7.3 in c:\\users\\black\\appdata\\local\\programs\\python\\python39\\lib\\site-packages (from pandas) (2.8.1)\n",
      "Requirement already satisfied: pytz>=2017.3 in c:\\users\\black\\appdata\\local\\programs\\python\\python39\\lib\\site-packages (from pandas) (2021.1)\n",
      "Requirement already satisfied: six>=1.5 in c:\\users\\black\\appdata\\local\\programs\\python\\python39\\lib\\site-packages (from python-dateutil>=2.7.3->pandas) (1.16.0)\n"
     ]
    }
   ],
   "source": [
    "!pip install pandas"
   ]
  },
  {
   "cell_type": "code",
   "execution_count": 2,
   "id": "21aa4cb2",
   "metadata": {},
   "outputs": [],
   "source": [
    "import tweepy\n",
    "import webbrowser\n",
    "import time\n",
    "import pandas as pd"
   ]
  },
  {
   "cell_type": "code",
   "execution_count": 3,
   "id": "9e863837",
   "metadata": {},
   "outputs": [],
   "source": [
    "consumer_key = \"jzn0NU9EviCRRbONbUXX9a8VN\"\n",
    "consumer_secret = \"ULsKu9BjBPmZ3yY5NdS6EXUhGBNWKUWxtwKqFktBeqsOq1Y3ZQ\""
   ]
  },
  {
   "cell_type": "code",
   "execution_count": 4,
   "id": "db50a9e6",
   "metadata": {},
   "outputs": [],
   "source": [
    "callback_uri = 'oob'#url "
   ]
  },
  {
   "cell_type": "code",
   "execution_count": 5,
   "id": "a20a8c5c",
   "metadata": {},
   "outputs": [
    {
     "name": "stdout",
     "output_type": "stream",
     "text": [
      "https://api.twitter.com/oauth/authorize?oauth_token=LgxAYAAAAAABQdBPAAABegziwkA\n"
     ]
    }
   ],
   "source": [
    "auth = tweepy.OAuthHandler(consumer_key, consumer_secret, callback_uri)\n",
    "redirect_url = auth.get_authorization_url() \n",
    "print(redirect_url)"
   ]
  },
  {
   "cell_type": "code",
   "execution_count": 6,
   "id": "d7975768",
   "metadata": {
    "scrolled": true
   },
   "outputs": [
    {
     "data": {
      "text/plain": [
       "True"
      ]
     },
     "execution_count": 6,
     "metadata": {},
     "output_type": "execute_result"
    }
   ],
   "source": [
    "webbrowser.open(redirect_url)"
   ]
  },
  {
   "cell_type": "code",
   "execution_count": null,
   "id": "94b8908f",
   "metadata": {},
   "outputs": [],
   "source": []
  },
  {
   "cell_type": "code",
   "execution_count": 7,
   "id": "ff548d28",
   "metadata": {},
   "outputs": [
    {
     "name": "stdout",
     "output_type": "stream",
     "text": [
      "What's the pin value? 9996443\n"
     ]
    }
   ],
   "source": [
    "user_pint_input = input(\"What's the pin value? \")"
   ]
  },
  {
   "cell_type": "code",
   "execution_count": 8,
   "id": "917d5196",
   "metadata": {},
   "outputs": [
    {
     "data": {
      "text/plain": [
       "('781482721-6928Gtnj95bK82PW3fYDxHFvU5T4l3SPI4VVF1X2',\n",
       " 'fTxclLJ4oxEmqshRhSbBibGoUiNq1l6941C0VyREdTf41')"
      ]
     },
     "execution_count": 8,
     "metadata": {},
     "output_type": "execute_result"
    }
   ],
   "source": [
    "auth.get_access_token(user_pint_input)"
   ]
  },
  {
   "cell_type": "code",
   "execution_count": 9,
   "id": "3757047c",
   "metadata": {},
   "outputs": [
    {
     "name": "stdout",
     "output_type": "stream",
     "text": [
      "781482721-6928Gtnj95bK82PW3fYDxHFvU5T4l3SPI4VVF1X2 fTxclLJ4oxEmqshRhSbBibGoUiNq1l6941C0VyREdTf41\n"
     ]
    }
   ],
   "source": [
    "print(auth.access_token, auth.access_token_secret)"
   ]
  },
  {
   "cell_type": "code",
   "execution_count": 10,
   "id": "3aadb4eb",
   "metadata": {},
   "outputs": [],
   "source": [
    "api = tweepy.API(auth)"
   ]
  },
  {
   "cell_type": "code",
   "execution_count": 11,
   "id": "8f587d84",
   "metadata": {},
   "outputs": [
    {
     "data": {
      "text/plain": [
       "'unspokenprophcy'"
      ]
     },
     "execution_count": 11,
     "metadata": {},
     "output_type": "execute_result"
    }
   ],
   "source": [
    "me = api.me()\n",
    "me.screen_name #twitter developer's account that has been approved to work with Twitter's API "
   ]
  },
  {
   "cell_type": "code",
   "execution_count": 16,
   "id": "e3e961d1",
   "metadata": {},
   "outputs": [
    {
     "name": "stdout",
     "output_type": "stream",
     "text": [
      "https://twitter.com/code/status/1404559526431543301\n"
     ]
    }
   ],
   "source": [
    "user = api.get_user(\"code\") #twitter page that is being pulled\n",
    "user_timeline = user.timeline() #timeline of the twitter page\n",
    "user_timeline_status_obj = user_timeline[0] #gets the most recent tweet of the twitter page\n",
    "status_obj_id = user_timeline_status_obj.id #stores tweet\n",
    "status_obj_screen_name = user_timeline_status_obj.user.screen_name \n",
    "status_obj_url = f\"https://twitter.com/{status_obj_screen_name}/status/{status_obj_id}\" #gets the twitter page and most recent tweet to store make url\n",
    "print(status_obj_url) #prints url of tweet"
   ]
  },
  {
   "cell_type": "code",
   "execution_count": 17,
   "id": "294e2248",
   "metadata": {},
   "outputs": [
    {
     "data": {
      "text/plain": [
       "'Use Remote Repositories in VS Code to browse and edit repos without cloning 🤯🪄\\nhttps://t.co/dF2K4wKMzi'"
      ]
     },
     "execution_count": 17,
     "metadata": {},
     "output_type": "execute_result"
    }
   ],
   "source": [
    "status_obj = api.get_status(\"1404514979194228747\") #gets the status of the tweet from the url numbers\n",
    "status_obj.text #pulls tweet into text format"
   ]
  },
  {
   "cell_type": "code",
   "execution_count": 21,
   "id": "f8755a00",
   "metadata": {},
   "outputs": [],
   "source": [
    "#api.retweet(status_obj_id)"
   ]
  },
  {
   "cell_type": "code",
   "execution_count": 22,
   "id": "2d878a03",
   "metadata": {},
   "outputs": [
    {
     "data": {
      "text/plain": [
       "Status(_api=<tweepy.api.API object at 0x000001691B2AB460>, _json={'created_at': 'Mon Jun 14 22:01:01 +0000 2021', 'id': 1404559526431543301, 'id_str': '1404559526431543301', 'text': \"RT @GarvNanwani: @code tip -\\n\\nNormally when you do ' code . '  in terminal, it opens the folder in a new vs code window.\\n \\nIf you want to o…\", 'truncated': False, 'entities': {'hashtags': [], 'symbols': [], 'user_mentions': [{'screen_name': 'GarvNanwani', 'name': 'Garv Nanwani', 'id': 849166565463425026, 'id_str': '849166565463425026', 'indices': [3, 15]}, {'screen_name': 'code', 'name': 'Visual Studio Code', 'id': 3167734591, 'id_str': '3167734591', 'indices': [17, 22]}], 'urls': []}, 'source': '<a href=\"https://buffer.com\" rel=\"nofollow\">Buffer</a>', 'in_reply_to_status_id': None, 'in_reply_to_status_id_str': None, 'in_reply_to_user_id': None, 'in_reply_to_user_id_str': None, 'in_reply_to_screen_name': None, 'user': {'id': 3167734591, 'id_str': '3167734591', 'name': 'Visual Studio Code', 'screen_name': 'code', 'location': 'Redmond, WA, USA', 'description': 'Microsoft Visual Studio Code lets you build and debug modern web and cloud applications. Visual Studio Code is free and available on Linux, macOS, and Windows.', 'url': 'https://t.co/ATpGbOEGMd', 'entities': {'url': {'urls': [{'url': 'https://t.co/ATpGbOEGMd', 'expanded_url': 'https://code.visualstudio.com', 'display_url': 'code.visualstudio.com', 'indices': [0, 23]}]}, 'description': {'urls': []}}, 'protected': False, 'followers_count': 375569, 'friends_count': 129, 'listed_count': 4776, 'created_at': 'Wed Apr 22 16:53:09 +0000 2015', 'favourites_count': 3824, 'utc_offset': None, 'time_zone': None, 'geo_enabled': False, 'verified': True, 'statuses_count': 5662, 'lang': None, 'contributors_enabled': False, 'is_translator': False, 'is_translation_enabled': False, 'profile_background_color': '3B94D9', 'profile_background_image_url': 'http://abs.twimg.com/images/themes/theme10/bg.gif', 'profile_background_image_url_https': 'https://abs.twimg.com/images/themes/theme10/bg.gif', 'profile_background_tile': False, 'profile_image_url': 'http://pbs.twimg.com/profile_images/1399848810407288833/Bs_WqfuB_normal.png', 'profile_image_url_https': 'https://pbs.twimg.com/profile_images/1399848810407288833/Bs_WqfuB_normal.png', 'profile_banner_url': 'https://pbs.twimg.com/profile_banners/3167734591/1594141269', 'profile_link_color': '3B94D9', 'profile_sidebar_border_color': '65B0DA', 'profile_sidebar_fill_color': '7AC3EE', 'profile_text_color': '3D1957', 'profile_use_background_image': True, 'has_extended_profile': False, 'default_profile': False, 'default_profile_image': False, 'following': False, 'follow_request_sent': False, 'notifications': False, 'translator_type': 'none', 'withheld_in_countries': []}, 'geo': None, 'coordinates': None, 'place': None, 'contributors': None, 'retweeted_status': {'created_at': 'Mon Jun 14 12:57:32 +0000 2021', 'id': 1404422756586774541, 'id_str': '1404422756586774541', 'text': \"@code tip -\\n\\nNormally when you do ' code . '  in terminal, it opens the folder in a new vs code window.\\n \\nIf you wa… https://t.co/8oqotxCVNI\", 'truncated': True, 'entities': {'hashtags': [], 'symbols': [], 'user_mentions': [{'screen_name': 'code', 'name': 'Visual Studio Code', 'id': 3167734591, 'id_str': '3167734591', 'indices': [0, 5]}], 'urls': [{'url': 'https://t.co/8oqotxCVNI', 'expanded_url': 'https://twitter.com/i/web/status/1404422756586774541', 'display_url': 'twitter.com/i/web/status/1…', 'indices': [117, 140]}]}, 'source': '<a href=\"https://mobile.twitter.com\" rel=\"nofollow\">Twitter Web App</a>', 'in_reply_to_status_id': None, 'in_reply_to_status_id_str': None, 'in_reply_to_user_id': 3167734591, 'in_reply_to_user_id_str': '3167734591', 'in_reply_to_screen_name': 'code', 'user': {'id': 849166565463425026, 'id_str': '849166565463425026', 'name': 'Garv Nanwani', 'screen_name': 'GarvNanwani', 'location': 'New Delhi  🇮🇳', 'description': 'Tweeting about programming, technology, development and soft skills', 'url': 'https://t.co/MdjFjgqTIW', 'entities': {'url': {'urls': [{'url': 'https://t.co/MdjFjgqTIW', 'expanded_url': 'https://garvnanwani.com', 'display_url': 'garvnanwani.com', 'indices': [0, 23]}]}, 'description': {'urls': []}}, 'protected': False, 'followers_count': 306, 'friends_count': 194, 'listed_count': 5, 'created_at': 'Tue Apr 04 07:47:40 +0000 2017', 'favourites_count': 7629, 'utc_offset': None, 'time_zone': None, 'geo_enabled': False, 'verified': False, 'statuses_count': 1762, 'lang': None, 'contributors_enabled': False, 'is_translator': False, 'is_translation_enabled': False, 'profile_background_color': 'F5F8FA', 'profile_background_image_url': None, 'profile_background_image_url_https': None, 'profile_background_tile': False, 'profile_image_url': 'http://pbs.twimg.com/profile_images/1401850188101083141/3Fm0u_Ck_normal.jpg', 'profile_image_url_https': 'https://pbs.twimg.com/profile_images/1401850188101083141/3Fm0u_Ck_normal.jpg', 'profile_banner_url': 'https://pbs.twimg.com/profile_banners/849166565463425026/1600885049', 'profile_link_color': '1DA1F2', 'profile_sidebar_border_color': 'C0DEED', 'profile_sidebar_fill_color': 'DDEEF6', 'profile_text_color': '333333', 'profile_use_background_image': True, 'has_extended_profile': True, 'default_profile': True, 'default_profile_image': False, 'following': False, 'follow_request_sent': False, 'notifications': False, 'translator_type': 'none', 'withheld_in_countries': []}, 'geo': None, 'coordinates': None, 'place': None, 'contributors': None, 'is_quote_status': False, 'retweet_count': 17, 'favorite_count': 137, 'favorited': False, 'retweeted': False, 'possibly_sensitive': False, 'lang': 'en'}, 'is_quote_status': False, 'retweet_count': 17, 'favorite_count': 0, 'favorited': False, 'retweeted': False, 'lang': 'en'}, created_at=datetime.datetime(2021, 6, 14, 22, 1, 1), id=1404559526431543301, id_str='1404559526431543301', text=\"RT @GarvNanwani: @code tip -\\n\\nNormally when you do ' code . '  in terminal, it opens the folder in a new vs code window.\\n \\nIf you want to o…\", truncated=False, entities={'hashtags': [], 'symbols': [], 'user_mentions': [{'screen_name': 'GarvNanwani', 'name': 'Garv Nanwani', 'id': 849166565463425026, 'id_str': '849166565463425026', 'indices': [3, 15]}, {'screen_name': 'code', 'name': 'Visual Studio Code', 'id': 3167734591, 'id_str': '3167734591', 'indices': [17, 22]}], 'urls': []}, source='Buffer', source_url='https://buffer.com', in_reply_to_status_id=None, in_reply_to_status_id_str=None, in_reply_to_user_id=None, in_reply_to_user_id_str=None, in_reply_to_screen_name=None, author=User(_api=<tweepy.api.API object at 0x000001691B2AB460>, _json={'id': 3167734591, 'id_str': '3167734591', 'name': 'Visual Studio Code', 'screen_name': 'code', 'location': 'Redmond, WA, USA', 'description': 'Microsoft Visual Studio Code lets you build and debug modern web and cloud applications. Visual Studio Code is free and available on Linux, macOS, and Windows.', 'url': 'https://t.co/ATpGbOEGMd', 'entities': {'url': {'urls': [{'url': 'https://t.co/ATpGbOEGMd', 'expanded_url': 'https://code.visualstudio.com', 'display_url': 'code.visualstudio.com', 'indices': [0, 23]}]}, 'description': {'urls': []}}, 'protected': False, 'followers_count': 375569, 'friends_count': 129, 'listed_count': 4776, 'created_at': 'Wed Apr 22 16:53:09 +0000 2015', 'favourites_count': 3824, 'utc_offset': None, 'time_zone': None, 'geo_enabled': False, 'verified': True, 'statuses_count': 5662, 'lang': None, 'contributors_enabled': False, 'is_translator': False, 'is_translation_enabled': False, 'profile_background_color': '3B94D9', 'profile_background_image_url': 'http://abs.twimg.com/images/themes/theme10/bg.gif', 'profile_background_image_url_https': 'https://abs.twimg.com/images/themes/theme10/bg.gif', 'profile_background_tile': False, 'profile_image_url': 'http://pbs.twimg.com/profile_images/1399848810407288833/Bs_WqfuB_normal.png', 'profile_image_url_https': 'https://pbs.twimg.com/profile_images/1399848810407288833/Bs_WqfuB_normal.png', 'profile_banner_url': 'https://pbs.twimg.com/profile_banners/3167734591/1594141269', 'profile_link_color': '3B94D9', 'profile_sidebar_border_color': '65B0DA', 'profile_sidebar_fill_color': '7AC3EE', 'profile_text_color': '3D1957', 'profile_use_background_image': True, 'has_extended_profile': False, 'default_profile': False, 'default_profile_image': False, 'following': False, 'follow_request_sent': False, 'notifications': False, 'translator_type': 'none', 'withheld_in_countries': []}, id=3167734591, id_str='3167734591', name='Visual Studio Code', screen_name='code', location='Redmond, WA, USA', description='Microsoft Visual Studio Code lets you build and debug modern web and cloud applications. Visual Studio Code is free and available on Linux, macOS, and Windows.', url='https://t.co/ATpGbOEGMd', entities={'url': {'urls': [{'url': 'https://t.co/ATpGbOEGMd', 'expanded_url': 'https://code.visualstudio.com', 'display_url': 'code.visualstudio.com', 'indices': [0, 23]}]}, 'description': {'urls': []}}, protected=False, followers_count=375569, friends_count=129, listed_count=4776, created_at=datetime.datetime(2015, 4, 22, 16, 53, 9), favourites_count=3824, utc_offset=None, time_zone=None, geo_enabled=False, verified=True, statuses_count=5662, lang=None, contributors_enabled=False, is_translator=False, is_translation_enabled=False, profile_background_color='3B94D9', profile_background_image_url='http://abs.twimg.com/images/themes/theme10/bg.gif', profile_background_image_url_https='https://abs.twimg.com/images/themes/theme10/bg.gif', profile_background_tile=False, profile_image_url='http://pbs.twimg.com/profile_images/1399848810407288833/Bs_WqfuB_normal.png', profile_image_url_https='https://pbs.twimg.com/profile_images/1399848810407288833/Bs_WqfuB_normal.png', profile_banner_url='https://pbs.twimg.com/profile_banners/3167734591/1594141269', profile_link_color='3B94D9', profile_sidebar_border_color='65B0DA', profile_sidebar_fill_color='7AC3EE', profile_text_color='3D1957', profile_use_background_image=True, has_extended_profile=False, default_profile=False, default_profile_image=False, following=False, follow_request_sent=False, notifications=False, translator_type='none', withheld_in_countries=[]), user=User(_api=<tweepy.api.API object at 0x000001691B2AB460>, _json={'id': 3167734591, 'id_str': '3167734591', 'name': 'Visual Studio Code', 'screen_name': 'code', 'location': 'Redmond, WA, USA', 'description': 'Microsoft Visual Studio Code lets you build and debug modern web and cloud applications. Visual Studio Code is free and available on Linux, macOS, and Windows.', 'url': 'https://t.co/ATpGbOEGMd', 'entities': {'url': {'urls': [{'url': 'https://t.co/ATpGbOEGMd', 'expanded_url': 'https://code.visualstudio.com', 'display_url': 'code.visualstudio.com', 'indices': [0, 23]}]}, 'description': {'urls': []}}, 'protected': False, 'followers_count': 375569, 'friends_count': 129, 'listed_count': 4776, 'created_at': 'Wed Apr 22 16:53:09 +0000 2015', 'favourites_count': 3824, 'utc_offset': None, 'time_zone': None, 'geo_enabled': False, 'verified': True, 'statuses_count': 5662, 'lang': None, 'contributors_enabled': False, 'is_translator': False, 'is_translation_enabled': False, 'profile_background_color': '3B94D9', 'profile_background_image_url': 'http://abs.twimg.com/images/themes/theme10/bg.gif', 'profile_background_image_url_https': 'https://abs.twimg.com/images/themes/theme10/bg.gif', 'profile_background_tile': False, 'profile_image_url': 'http://pbs.twimg.com/profile_images/1399848810407288833/Bs_WqfuB_normal.png', 'profile_image_url_https': 'https://pbs.twimg.com/profile_images/1399848810407288833/Bs_WqfuB_normal.png', 'profile_banner_url': 'https://pbs.twimg.com/profile_banners/3167734591/1594141269', 'profile_link_color': '3B94D9', 'profile_sidebar_border_color': '65B0DA', 'profile_sidebar_fill_color': '7AC3EE', 'profile_text_color': '3D1957', 'profile_use_background_image': True, 'has_extended_profile': False, 'default_profile': False, 'default_profile_image': False, 'following': False, 'follow_request_sent': False, 'notifications': False, 'translator_type': 'none', 'withheld_in_countries': []}, id=3167734591, id_str='3167734591', name='Visual Studio Code', screen_name='code', location='Redmond, WA, USA', description='Microsoft Visual Studio Code lets you build and debug modern web and cloud applications. Visual Studio Code is free and available on Linux, macOS, and Windows.', url='https://t.co/ATpGbOEGMd', entities={'url': {'urls': [{'url': 'https://t.co/ATpGbOEGMd', 'expanded_url': 'https://code.visualstudio.com', 'display_url': 'code.visualstudio.com', 'indices': [0, 23]}]}, 'description': {'urls': []}}, protected=False, followers_count=375569, friends_count=129, listed_count=4776, created_at=datetime.datetime(2015, 4, 22, 16, 53, 9), favourites_count=3824, utc_offset=None, time_zone=None, geo_enabled=False, verified=True, statuses_count=5662, lang=None, contributors_enabled=False, is_translator=False, is_translation_enabled=False, profile_background_color='3B94D9', profile_background_image_url='http://abs.twimg.com/images/themes/theme10/bg.gif', profile_background_image_url_https='https://abs.twimg.com/images/themes/theme10/bg.gif', profile_background_tile=False, profile_image_url='http://pbs.twimg.com/profile_images/1399848810407288833/Bs_WqfuB_normal.png', profile_image_url_https='https://pbs.twimg.com/profile_images/1399848810407288833/Bs_WqfuB_normal.png', profile_banner_url='https://pbs.twimg.com/profile_banners/3167734591/1594141269', profile_link_color='3B94D9', profile_sidebar_border_color='65B0DA', profile_sidebar_fill_color='7AC3EE', profile_text_color='3D1957', profile_use_background_image=True, has_extended_profile=False, default_profile=False, default_profile_image=False, following=False, follow_request_sent=False, notifications=False, translator_type='none', withheld_in_countries=[]), geo=None, coordinates=None, place=None, contributors=None, retweeted_status=Status(_api=<tweepy.api.API object at 0x000001691B2AB460>, _json={'created_at': 'Mon Jun 14 12:57:32 +0000 2021', 'id': 1404422756586774541, 'id_str': '1404422756586774541', 'text': \"@code tip -\\n\\nNormally when you do ' code . '  in terminal, it opens the folder in a new vs code window.\\n \\nIf you wa… https://t.co/8oqotxCVNI\", 'truncated': True, 'entities': {'hashtags': [], 'symbols': [], 'user_mentions': [{'screen_name': 'code', 'name': 'Visual Studio Code', 'id': 3167734591, 'id_str': '3167734591', 'indices': [0, 5]}], 'urls': [{'url': 'https://t.co/8oqotxCVNI', 'expanded_url': 'https://twitter.com/i/web/status/1404422756586774541', 'display_url': 'twitter.com/i/web/status/1…', 'indices': [117, 140]}]}, 'source': '<a href=\"https://mobile.twitter.com\" rel=\"nofollow\">Twitter Web App</a>', 'in_reply_to_status_id': None, 'in_reply_to_status_id_str': None, 'in_reply_to_user_id': 3167734591, 'in_reply_to_user_id_str': '3167734591', 'in_reply_to_screen_name': 'code', 'user': {'id': 849166565463425026, 'id_str': '849166565463425026', 'name': 'Garv Nanwani', 'screen_name': 'GarvNanwani', 'location': 'New Delhi  🇮🇳', 'description': 'Tweeting about programming, technology, development and soft skills', 'url': 'https://t.co/MdjFjgqTIW', 'entities': {'url': {'urls': [{'url': 'https://t.co/MdjFjgqTIW', 'expanded_url': 'https://garvnanwani.com', 'display_url': 'garvnanwani.com', 'indices': [0, 23]}]}, 'description': {'urls': []}}, 'protected': False, 'followers_count': 306, 'friends_count': 194, 'listed_count': 5, 'created_at': 'Tue Apr 04 07:47:40 +0000 2017', 'favourites_count': 7629, 'utc_offset': None, 'time_zone': None, 'geo_enabled': False, 'verified': False, 'statuses_count': 1762, 'lang': None, 'contributors_enabled': False, 'is_translator': False, 'is_translation_enabled': False, 'profile_background_color': 'F5F8FA', 'profile_background_image_url': None, 'profile_background_image_url_https': None, 'profile_background_tile': False, 'profile_image_url': 'http://pbs.twimg.com/profile_images/1401850188101083141/3Fm0u_Ck_normal.jpg', 'profile_image_url_https': 'https://pbs.twimg.com/profile_images/1401850188101083141/3Fm0u_Ck_normal.jpg', 'profile_banner_url': 'https://pbs.twimg.com/profile_banners/849166565463425026/1600885049', 'profile_link_color': '1DA1F2', 'profile_sidebar_border_color': 'C0DEED', 'profile_sidebar_fill_color': 'DDEEF6', 'profile_text_color': '333333', 'profile_use_background_image': True, 'has_extended_profile': True, 'default_profile': True, 'default_profile_image': False, 'following': False, 'follow_request_sent': False, 'notifications': False, 'translator_type': 'none', 'withheld_in_countries': []}, 'geo': None, 'coordinates': None, 'place': None, 'contributors': None, 'is_quote_status': False, 'retweet_count': 17, 'favorite_count': 137, 'favorited': False, 'retweeted': False, 'possibly_sensitive': False, 'lang': 'en'}, created_at=datetime.datetime(2021, 6, 14, 12, 57, 32), id=1404422756586774541, id_str='1404422756586774541', text=\"@code tip -\\n\\nNormally when you do ' code . '  in terminal, it opens the folder in a new vs code window.\\n \\nIf you wa… https://t.co/8oqotxCVNI\", truncated=True, entities={'hashtags': [], 'symbols': [], 'user_mentions': [{'screen_name': 'code', 'name': 'Visual Studio Code', 'id': 3167734591, 'id_str': '3167734591', 'indices': [0, 5]}], 'urls': [{'url': 'https://t.co/8oqotxCVNI', 'expanded_url': 'https://twitter.com/i/web/status/1404422756586774541', 'display_url': 'twitter.com/i/web/status/1…', 'indices': [117, 140]}]}, source='Twitter Web App', source_url='https://mobile.twitter.com', in_reply_to_status_id=None, in_reply_to_status_id_str=None, in_reply_to_user_id=3167734591, in_reply_to_user_id_str='3167734591', in_reply_to_screen_name='code', author=User(_api=<tweepy.api.API object at 0x000001691B2AB460>, _json={'id': 849166565463425026, 'id_str': '849166565463425026', 'name': 'Garv Nanwani', 'screen_name': 'GarvNanwani', 'location': 'New Delhi  🇮🇳', 'description': 'Tweeting about programming, technology, development and soft skills', 'url': 'https://t.co/MdjFjgqTIW', 'entities': {'url': {'urls': [{'url': 'https://t.co/MdjFjgqTIW', 'expanded_url': 'https://garvnanwani.com', 'display_url': 'garvnanwani.com', 'indices': [0, 23]}]}, 'description': {'urls': []}}, 'protected': False, 'followers_count': 306, 'friends_count': 194, 'listed_count': 5, 'created_at': 'Tue Apr 04 07:47:40 +0000 2017', 'favourites_count': 7629, 'utc_offset': None, 'time_zone': None, 'geo_enabled': False, 'verified': False, 'statuses_count': 1762, 'lang': None, 'contributors_enabled': False, 'is_translator': False, 'is_translation_enabled': False, 'profile_background_color': 'F5F8FA', 'profile_background_image_url': None, 'profile_background_image_url_https': None, 'profile_background_tile': False, 'profile_image_url': 'http://pbs.twimg.com/profile_images/1401850188101083141/3Fm0u_Ck_normal.jpg', 'profile_image_url_https': 'https://pbs.twimg.com/profile_images/1401850188101083141/3Fm0u_Ck_normal.jpg', 'profile_banner_url': 'https://pbs.twimg.com/profile_banners/849166565463425026/1600885049', 'profile_link_color': '1DA1F2', 'profile_sidebar_border_color': 'C0DEED', 'profile_sidebar_fill_color': 'DDEEF6', 'profile_text_color': '333333', 'profile_use_background_image': True, 'has_extended_profile': True, 'default_profile': True, 'default_profile_image': False, 'following': False, 'follow_request_sent': False, 'notifications': False, 'translator_type': 'none', 'withheld_in_countries': []}, id=849166565463425026, id_str='849166565463425026', name='Garv Nanwani', screen_name='GarvNanwani', location='New Delhi  🇮🇳', description='Tweeting about programming, technology, development and soft skills', url='https://t.co/MdjFjgqTIW', entities={'url': {'urls': [{'url': 'https://t.co/MdjFjgqTIW', 'expanded_url': 'https://garvnanwani.com', 'display_url': 'garvnanwani.com', 'indices': [0, 23]}]}, 'description': {'urls': []}}, protected=False, followers_count=306, friends_count=194, listed_count=5, created_at=datetime.datetime(2017, 4, 4, 7, 47, 40), favourites_count=7629, utc_offset=None, time_zone=None, geo_enabled=False, verified=False, statuses_count=1762, lang=None, contributors_enabled=False, is_translator=False, is_translation_enabled=False, profile_background_color='F5F8FA', profile_background_image_url=None, profile_background_image_url_https=None, profile_background_tile=False, profile_image_url='http://pbs.twimg.com/profile_images/1401850188101083141/3Fm0u_Ck_normal.jpg', profile_image_url_https='https://pbs.twimg.com/profile_images/1401850188101083141/3Fm0u_Ck_normal.jpg', profile_banner_url='https://pbs.twimg.com/profile_banners/849166565463425026/1600885049', profile_link_color='1DA1F2', profile_sidebar_border_color='C0DEED', profile_sidebar_fill_color='DDEEF6', profile_text_color='333333', profile_use_background_image=True, has_extended_profile=True, default_profile=True, default_profile_image=False, following=False, follow_request_sent=False, notifications=False, translator_type='none', withheld_in_countries=[]), user=User(_api=<tweepy.api.API object at 0x000001691B2AB460>, _json={'id': 849166565463425026, 'id_str': '849166565463425026', 'name': 'Garv Nanwani', 'screen_name': 'GarvNanwani', 'location': 'New Delhi  🇮🇳', 'description': 'Tweeting about programming, technology, development and soft skills', 'url': 'https://t.co/MdjFjgqTIW', 'entities': {'url': {'urls': [{'url': 'https://t.co/MdjFjgqTIW', 'expanded_url': 'https://garvnanwani.com', 'display_url': 'garvnanwani.com', 'indices': [0, 23]}]}, 'description': {'urls': []}}, 'protected': False, 'followers_count': 306, 'friends_count': 194, 'listed_count': 5, 'created_at': 'Tue Apr 04 07:47:40 +0000 2017', 'favourites_count': 7629, 'utc_offset': None, 'time_zone': None, 'geo_enabled': False, 'verified': False, 'statuses_count': 1762, 'lang': None, 'contributors_enabled': False, 'is_translator': False, 'is_translation_enabled': False, 'profile_background_color': 'F5F8FA', 'profile_background_image_url': None, 'profile_background_image_url_https': None, 'profile_background_tile': False, 'profile_image_url': 'http://pbs.twimg.com/profile_images/1401850188101083141/3Fm0u_Ck_normal.jpg', 'profile_image_url_https': 'https://pbs.twimg.com/profile_images/1401850188101083141/3Fm0u_Ck_normal.jpg', 'profile_banner_url': 'https://pbs.twimg.com/profile_banners/849166565463425026/1600885049', 'profile_link_color': '1DA1F2', 'profile_sidebar_border_color': 'C0DEED', 'profile_sidebar_fill_color': 'DDEEF6', 'profile_text_color': '333333', 'profile_use_background_image': True, 'has_extended_profile': True, 'default_profile': True, 'default_profile_image': False, 'following': False, 'follow_request_sent': False, 'notifications': False, 'translator_type': 'none', 'withheld_in_countries': []}, id=849166565463425026, id_str='849166565463425026', name='Garv Nanwani', screen_name='GarvNanwani', location='New Delhi  🇮🇳', description='Tweeting about programming, technology, development and soft skills', url='https://t.co/MdjFjgqTIW', entities={'url': {'urls': [{'url': 'https://t.co/MdjFjgqTIW', 'expanded_url': 'https://garvnanwani.com', 'display_url': 'garvnanwani.com', 'indices': [0, 23]}]}, 'description': {'urls': []}}, protected=False, followers_count=306, friends_count=194, listed_count=5, created_at=datetime.datetime(2017, 4, 4, 7, 47, 40), favourites_count=7629, utc_offset=None, time_zone=None, geo_enabled=False, verified=False, statuses_count=1762, lang=None, contributors_enabled=False, is_translator=False, is_translation_enabled=False, profile_background_color='F5F8FA', profile_background_image_url=None, profile_background_image_url_https=None, profile_background_tile=False, profile_image_url='http://pbs.twimg.com/profile_images/1401850188101083141/3Fm0u_Ck_normal.jpg', profile_image_url_https='https://pbs.twimg.com/profile_images/1401850188101083141/3Fm0u_Ck_normal.jpg', profile_banner_url='https://pbs.twimg.com/profile_banners/849166565463425026/1600885049', profile_link_color='1DA1F2', profile_sidebar_border_color='C0DEED', profile_sidebar_fill_color='DDEEF6', profile_text_color='333333', profile_use_background_image=True, has_extended_profile=True, default_profile=True, default_profile_image=False, following=False, follow_request_sent=False, notifications=False, translator_type='none', withheld_in_countries=[]), geo=None, coordinates=None, place=None, contributors=None, is_quote_status=False, retweet_count=17, favorite_count=137, favorited=False, retweeted=False, possibly_sensitive=False, lang='en'), is_quote_status=False, retweet_count=17, favorite_count=0, favorited=False, retweeted=False, lang='en')"
      ]
     },
     "execution_count": 22,
     "metadata": {},
     "output_type": "execute_result"
    }
   ],
   "source": [
    "#api.create_favorite(status_obj_id) #how to favorite a tweet\n",
    "api.destroy_favorite(status_obj_id) #how to delete a favorited tweet"
   ]
  },
  {
   "cell_type": "code",
   "execution_count": 26,
   "id": "15645764",
   "metadata": {},
   "outputs": [
    {
     "ename": "TweepError",
     "evalue": "[{'code': 187, 'message': 'Status is a duplicate.'}]",
     "output_type": "error",
     "traceback": [
      "\u001b[1;31m---------------------------------------------------------------------------\u001b[0m",
      "\u001b[1;31mTweepError\u001b[0m                                Traceback (most recent call last)",
      "\u001b[1;32m<ipython-input-26-06608fd24df4>\u001b[0m in \u001b[0;36m<module>\u001b[1;34m\u001b[0m\n\u001b[0;32m      1\u001b[0m \u001b[0mog_tweet\u001b[0m \u001b[1;33m=\u001b[0m \u001b[0mapi\u001b[0m\u001b[1;33m.\u001b[0m\u001b[0mget_status\u001b[0m\u001b[1;33m(\u001b[0m\u001b[1;34m\"1404514979194228747\"\u001b[0m\u001b[1;33m)\u001b[0m\u001b[1;33m\u001b[0m\u001b[1;33m\u001b[0m\u001b[0m\n\u001b[0;32m      2\u001b[0m \u001b[1;31m#print(og_tweet.user.screen_name, og_tweet.id)\u001b[0m\u001b[1;33m\u001b[0m\u001b[1;33m\u001b[0m\u001b[1;33m\u001b[0m\u001b[0m\n\u001b[1;32m----> 3\u001b[1;33m \u001b[0mmy_reply\u001b[0m \u001b[1;33m=\u001b[0m \u001b[0mapi\u001b[0m\u001b[1;33m.\u001b[0m\u001b[0mupdate_status\u001b[0m\u001b[1;33m(\u001b[0m\u001b[1;34mf\"@{og_tweet.user.screen_name} Wow this is cool!\"\u001b[0m\u001b[1;33m,\u001b[0m \u001b[1;34m\"1404514979194228747\"\u001b[0m\u001b[1;33m)\u001b[0m\u001b[1;33m\u001b[0m\u001b[1;33m\u001b[0m\u001b[0m\n\u001b[0m",
      "\u001b[1;32mc:\\users\\black\\appdata\\local\\programs\\python\\python39\\lib\\site-packages\\tweepy\\api.py\u001b[0m in \u001b[0;36mupdate_status\u001b[1;34m(self, *args, **kwargs)\u001b[0m\n\u001b[0;32m    203\u001b[0m             \u001b[0mkwargs\u001b[0m\u001b[1;33m[\u001b[0m\u001b[1;34m'media_ids'\u001b[0m\u001b[1;33m]\u001b[0m \u001b[1;33m=\u001b[0m \u001b[0mlist_to_csv\u001b[0m\u001b[1;33m(\u001b[0m\u001b[0mkwargs\u001b[0m\u001b[1;33m[\u001b[0m\u001b[1;34m'media_ids'\u001b[0m\u001b[1;33m]\u001b[0m\u001b[1;33m)\u001b[0m\u001b[1;33m\u001b[0m\u001b[1;33m\u001b[0m\u001b[0m\n\u001b[0;32m    204\u001b[0m \u001b[1;33m\u001b[0m\u001b[0m\n\u001b[1;32m--> 205\u001b[1;33m         return bind_api(\n\u001b[0m\u001b[0;32m    206\u001b[0m             \u001b[0mapi\u001b[0m\u001b[1;33m=\u001b[0m\u001b[0mself\u001b[0m\u001b[1;33m,\u001b[0m\u001b[1;33m\u001b[0m\u001b[1;33m\u001b[0m\u001b[0m\n\u001b[0;32m    207\u001b[0m             \u001b[0mpath\u001b[0m\u001b[1;33m=\u001b[0m\u001b[1;34m'/statuses/update.json'\u001b[0m\u001b[1;33m,\u001b[0m\u001b[1;33m\u001b[0m\u001b[1;33m\u001b[0m\u001b[0m\n",
      "\u001b[1;32mc:\\users\\black\\appdata\\local\\programs\\python\\python39\\lib\\site-packages\\tweepy\\binder.py\u001b[0m in \u001b[0;36m_call\u001b[1;34m(*args, **kwargs)\u001b[0m\n\u001b[0;32m    251\u001b[0m                 \u001b[1;32mreturn\u001b[0m \u001b[0mmethod\u001b[0m\u001b[1;33m\u001b[0m\u001b[1;33m\u001b[0m\u001b[0m\n\u001b[0;32m    252\u001b[0m             \u001b[1;32melse\u001b[0m\u001b[1;33m:\u001b[0m\u001b[1;33m\u001b[0m\u001b[1;33m\u001b[0m\u001b[0m\n\u001b[1;32m--> 253\u001b[1;33m                 \u001b[1;32mreturn\u001b[0m \u001b[0mmethod\u001b[0m\u001b[1;33m.\u001b[0m\u001b[0mexecute\u001b[0m\u001b[1;33m(\u001b[0m\u001b[1;33m)\u001b[0m\u001b[1;33m\u001b[0m\u001b[1;33m\u001b[0m\u001b[0m\n\u001b[0m\u001b[0;32m    254\u001b[0m         \u001b[1;32mfinally\u001b[0m\u001b[1;33m:\u001b[0m\u001b[1;33m\u001b[0m\u001b[1;33m\u001b[0m\u001b[0m\n\u001b[0;32m    255\u001b[0m             \u001b[0mmethod\u001b[0m\u001b[1;33m.\u001b[0m\u001b[0msession\u001b[0m\u001b[1;33m.\u001b[0m\u001b[0mclose\u001b[0m\u001b[1;33m(\u001b[0m\u001b[1;33m)\u001b[0m\u001b[1;33m\u001b[0m\u001b[1;33m\u001b[0m\u001b[0m\n",
      "\u001b[1;32mc:\\users\\black\\appdata\\local\\programs\\python\\python39\\lib\\site-packages\\tweepy\\binder.py\u001b[0m in \u001b[0;36mexecute\u001b[1;34m(self)\u001b[0m\n\u001b[0;32m    232\u001b[0m                     \u001b[1;32mraise\u001b[0m \u001b[0mRateLimitError\u001b[0m\u001b[1;33m(\u001b[0m\u001b[0merror_msg\u001b[0m\u001b[1;33m,\u001b[0m \u001b[0mresp\u001b[0m\u001b[1;33m)\u001b[0m\u001b[1;33m\u001b[0m\u001b[1;33m\u001b[0m\u001b[0m\n\u001b[0;32m    233\u001b[0m                 \u001b[1;32melse\u001b[0m\u001b[1;33m:\u001b[0m\u001b[1;33m\u001b[0m\u001b[1;33m\u001b[0m\u001b[0m\n\u001b[1;32m--> 234\u001b[1;33m                     \u001b[1;32mraise\u001b[0m \u001b[0mTweepError\u001b[0m\u001b[1;33m(\u001b[0m\u001b[0merror_msg\u001b[0m\u001b[1;33m,\u001b[0m \u001b[0mresp\u001b[0m\u001b[1;33m,\u001b[0m \u001b[0mapi_code\u001b[0m\u001b[1;33m=\u001b[0m\u001b[0mapi_error_code\u001b[0m\u001b[1;33m)\u001b[0m\u001b[1;33m\u001b[0m\u001b[1;33m\u001b[0m\u001b[0m\n\u001b[0m\u001b[0;32m    235\u001b[0m \u001b[1;33m\u001b[0m\u001b[0m\n\u001b[0;32m    236\u001b[0m             \u001b[1;31m# Parse the response payload\u001b[0m\u001b[1;33m\u001b[0m\u001b[1;33m\u001b[0m\u001b[1;33m\u001b[0m\u001b[0m\n",
      "\u001b[1;31mTweepError\u001b[0m: [{'code': 187, 'message': 'Status is a duplicate.'}]"
     ]
    }
   ],
   "source": [
    "og_tweet = api.get_status(\"1404514979194228747\") #how to reply to tweet with known url numbers from status_obj_id\n",
    "#print(og_tweet.user.screen_name, og_tweet.id)\n",
    "my_reply = api.update_status(f\"@{og_tweet.user.screen_name} Wow this is cool!\", \"1404514979194228747\") #tweets reply to status_obj_id"
   ]
  },
  {
   "cell_type": "code",
   "execution_count": 27,
   "id": "37b02137",
   "metadata": {},
   "outputs": [
    {
     "name": "stdout",
     "output_type": "stream",
     "text": [
      "1404588389832314887 unspokenprophcy\n"
     ]
    }
   ],
   "source": [
    "print(my_reply.id, my_reply.user.screen_name)"
   ]
  },
  {
   "cell_type": "code",
   "execution_count": null,
   "id": "5e5e82d4",
   "metadata": {},
   "outputs": [],
   "source": []
  }
 ],
 "metadata": {
  "kernelspec": {
   "display_name": "Python 3",
   "language": "python",
   "name": "python3"
  },
  "language_info": {
   "codemirror_mode": {
    "name": "ipython",
    "version": 3
   },
   "file_extension": ".py",
   "mimetype": "text/x-python",
   "name": "python",
   "nbconvert_exporter": "python",
   "pygments_lexer": "ipython3",
   "version": "3.9.5"
  }
 },
 "nbformat": 4,
 "nbformat_minor": 5
}
