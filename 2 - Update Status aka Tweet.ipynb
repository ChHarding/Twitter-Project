{
 "cells": [
  {
   "cell_type": "code",
   "execution_count": 1,
   "id": "21aa4cb2",
   "metadata": {},
   "outputs": [],
   "source": [
    "import tweepy\n",
    "import webbrowser\n",
    "import time"
   ]
  },
  {
   "cell_type": "code",
   "execution_count": 2,
   "id": "9e863837",
   "metadata": {},
   "outputs": [],
   "source": [
    "consumer_key = \"jzn0NU9EviCRRbONbUXX9a8VN\"\n",
    "consumer_secret = \"ULsKu9BjBPmZ3yY5NdS6EXUhGBNWKUWxtwKqFktBeqsOq1Y3ZQ\""
   ]
  },
  {
   "cell_type": "code",
   "execution_count": 3,
   "id": "db50a9e6",
   "metadata": {},
   "outputs": [],
   "source": [
    "callback_uri = 'oob'#url "
   ]
  },
  {
   "cell_type": "code",
   "execution_count": 4,
   "id": "a20a8c5c",
   "metadata": {},
   "outputs": [
    {
     "name": "stdout",
     "output_type": "stream",
     "text": [
      "https://api.twitter.com/oauth/authorize?oauth_token=sBarYQAAAAABQdBPAAABefgqxZU\n"
     ]
    }
   ],
   "source": [
    "auth = tweepy.OAuthHandler(consumer_key, consumer_secret, callback_uri)\n",
    "redirect_url = auth.get_authorization_url() \n",
    "print(redirect_url)"
   ]
  },
  {
   "cell_type": "code",
   "execution_count": 5,
   "id": "d7975768",
   "metadata": {
    "scrolled": true
   },
   "outputs": [
    {
     "data": {
      "text/plain": [
       "True"
      ]
     },
     "execution_count": 5,
     "metadata": {},
     "output_type": "execute_result"
    }
   ],
   "source": [
    "webbrowser.open(redirect_url)"
   ]
  },
  {
   "cell_type": "code",
   "execution_count": null,
   "id": "94b8908f",
   "metadata": {},
   "outputs": [],
   "source": []
  },
  {
   "cell_type": "code",
   "execution_count": 6,
   "id": "ff548d28",
   "metadata": {},
   "outputs": [
    {
     "name": "stdout",
     "output_type": "stream",
     "text": [
      "What's the pin value? 5531286\n"
     ]
    }
   ],
   "source": [
    "user_pint_input = input(\"What's the pin value? \")"
   ]
  },
  {
   "cell_type": "code",
   "execution_count": 7,
   "id": "917d5196",
   "metadata": {},
   "outputs": [
    {
     "data": {
      "text/plain": [
       "('781482721-6928Gtnj95bK82PW3fYDxHFvU5T4l3SPI4VVF1X2',\n",
       " 'fTxclLJ4oxEmqshRhSbBibGoUiNq1l6941C0VyREdTf41')"
      ]
     },
     "execution_count": 7,
     "metadata": {},
     "output_type": "execute_result"
    }
   ],
   "source": [
    "auth.get_access_token(user_pint_input)"
   ]
  },
  {
   "cell_type": "code",
   "execution_count": 8,
   "id": "3757047c",
   "metadata": {},
   "outputs": [
    {
     "name": "stdout",
     "output_type": "stream",
     "text": [
      "781482721-6928Gtnj95bK82PW3fYDxHFvU5T4l3SPI4VVF1X2 fTxclLJ4oxEmqshRhSbBibGoUiNq1l6941C0VyREdTf41\n"
     ]
    }
   ],
   "source": [
    "print(auth.access_token, auth.access_token_secret)"
   ]
  },
  {
   "cell_type": "code",
   "execution_count": 9,
   "id": "3aadb4eb",
   "metadata": {},
   "outputs": [],
   "source": [
    "api = tweepy.API(auth)"
   ]
  },
  {
   "cell_type": "code",
   "execution_count": 10,
   "id": "8f587d84",
   "metadata": {},
   "outputs": [],
   "source": [
    "me = api.me()"
   ]
  },
  {
   "cell_type": "code",
   "execution_count": 11,
   "id": "fe878d9d",
   "metadata": {},
   "outputs": [
    {
     "name": "stdout",
     "output_type": "stream",
     "text": [
      "unspokenprophcy\n"
     ]
    }
   ],
   "source": [
    "print(me.screen_name)"
   ]
  },
  {
   "cell_type": "code",
   "execution_count": 12,
   "id": "a80307b6",
   "metadata": {},
   "outputs": [],
   "source": [
    "new_status = api.update_status(\"Hello world from the 30 days of Python @unspokenprophcy what up?\")"
   ]
  },
  {
   "cell_type": "code",
   "execution_count": 15,
   "id": "de21d5f2",
   "metadata": {},
   "outputs": [
    {
     "data": {
      "text/plain": [
       "Status(_api=<tweepy.api.API object at 0x00000196057129A0>, _json={'created_at': 'Thu Jun 10 23:03:53 +0000 2021', 'id': 1403125796387049475, 'id_str': '1403125796387049475', 'text': 'Hello world from the 30 days of Python @unspokenprophcy what up?', 'truncated': False, 'entities': {'hashtags': [], 'symbols': [], 'user_mentions': [{'screen_name': 'unspokenprophcy', 'name': 'Rickle Pick 🥒', 'id': 781482721, 'id_str': '781482721', 'indices': [39, 55]}], 'urls': []}, 'source': '<a href=\"https://help.twitter.com/en/using-twitter/how-to-tweet#source-labels\" rel=\"nofollow\">User Profile Data</a>', 'in_reply_to_status_id': None, 'in_reply_to_status_id_str': None, 'in_reply_to_user_id': None, 'in_reply_to_user_id_str': None, 'in_reply_to_screen_name': None, 'user': {'id': 781482721, 'id_str': '781482721', 'name': 'Rickle Pick 🥒', 'screen_name': 'unspokenprophcy', 'location': '', 'description': 'Be a good person, that is all.', 'url': None, 'entities': {'description': {'urls': []}}, 'protected': False, 'followers_count': 389, 'friends_count': 686, 'listed_count': 1, 'created_at': 'Sun Aug 26 01:53:34 +0000 2012', 'favourites_count': 19460, 'utc_offset': None, 'time_zone': None, 'geo_enabled': True, 'verified': False, 'statuses_count': 15628, 'lang': None, 'contributors_enabled': False, 'is_translator': False, 'is_translation_enabled': False, 'profile_background_color': 'DB2B1F', 'profile_background_image_url': 'http://abs.twimg.com/images/themes/theme1/bg.png', 'profile_background_image_url_https': 'https://abs.twimg.com/images/themes/theme1/bg.png', 'profile_background_tile': True, 'profile_image_url': 'http://pbs.twimg.com/profile_images/1340416446887804935/AqXVLivt_normal.jpg', 'profile_image_url_https': 'https://pbs.twimg.com/profile_images/1340416446887804935/AqXVLivt_normal.jpg', 'profile_banner_url': 'https://pbs.twimg.com/profile_banners/781482721/1584870805', 'profile_link_color': '0084B4', 'profile_sidebar_border_color': 'FFFFFF', 'profile_sidebar_fill_color': 'DDEEF6', 'profile_text_color': '333333', 'profile_use_background_image': True, 'has_extended_profile': False, 'default_profile': False, 'default_profile_image': False, 'following': False, 'follow_request_sent': False, 'notifications': False, 'translator_type': 'none', 'withheld_in_countries': []}, 'geo': None, 'coordinates': None, 'place': None, 'contributors': None, 'is_quote_status': False, 'retweet_count': 0, 'favorite_count': 0, 'favorited': False, 'retweeted': False, 'lang': 'en'}, created_at=datetime.datetime(2021, 6, 10, 23, 3, 53), id=1403125796387049475, id_str='1403125796387049475', text='Hello world from the 30 days of Python @unspokenprophcy what up?', truncated=False, entities={'hashtags': [], 'symbols': [], 'user_mentions': [{'screen_name': 'unspokenprophcy', 'name': 'Rickle Pick 🥒', 'id': 781482721, 'id_str': '781482721', 'indices': [39, 55]}], 'urls': []}, source='User Profile Data', source_url='https://help.twitter.com/en/using-twitter/how-to-tweet#source-labels', in_reply_to_status_id=None, in_reply_to_status_id_str=None, in_reply_to_user_id=None, in_reply_to_user_id_str=None, in_reply_to_screen_name=None, author=User(_api=<tweepy.api.API object at 0x00000196057129A0>, _json={'id': 781482721, 'id_str': '781482721', 'name': 'Rickle Pick 🥒', 'screen_name': 'unspokenprophcy', 'location': '', 'description': 'Be a good person, that is all.', 'url': None, 'entities': {'description': {'urls': []}}, 'protected': False, 'followers_count': 389, 'friends_count': 686, 'listed_count': 1, 'created_at': 'Sun Aug 26 01:53:34 +0000 2012', 'favourites_count': 19460, 'utc_offset': None, 'time_zone': None, 'geo_enabled': True, 'verified': False, 'statuses_count': 15628, 'lang': None, 'contributors_enabled': False, 'is_translator': False, 'is_translation_enabled': False, 'profile_background_color': 'DB2B1F', 'profile_background_image_url': 'http://abs.twimg.com/images/themes/theme1/bg.png', 'profile_background_image_url_https': 'https://abs.twimg.com/images/themes/theme1/bg.png', 'profile_background_tile': True, 'profile_image_url': 'http://pbs.twimg.com/profile_images/1340416446887804935/AqXVLivt_normal.jpg', 'profile_image_url_https': 'https://pbs.twimg.com/profile_images/1340416446887804935/AqXVLivt_normal.jpg', 'profile_banner_url': 'https://pbs.twimg.com/profile_banners/781482721/1584870805', 'profile_link_color': '0084B4', 'profile_sidebar_border_color': 'FFFFFF', 'profile_sidebar_fill_color': 'DDEEF6', 'profile_text_color': '333333', 'profile_use_background_image': True, 'has_extended_profile': False, 'default_profile': False, 'default_profile_image': False, 'following': False, 'follow_request_sent': False, 'notifications': False, 'translator_type': 'none', 'withheld_in_countries': []}, id=781482721, id_str='781482721', name='Rickle Pick 🥒', screen_name='unspokenprophcy', location='', description='Be a good person, that is all.', url=None, entities={'description': {'urls': []}}, protected=False, followers_count=389, friends_count=686, listed_count=1, created_at=datetime.datetime(2012, 8, 26, 1, 53, 34), favourites_count=19460, utc_offset=None, time_zone=None, geo_enabled=True, verified=False, statuses_count=15628, lang=None, contributors_enabled=False, is_translator=False, is_translation_enabled=False, profile_background_color='DB2B1F', profile_background_image_url='http://abs.twimg.com/images/themes/theme1/bg.png', profile_background_image_url_https='https://abs.twimg.com/images/themes/theme1/bg.png', profile_background_tile=True, profile_image_url='http://pbs.twimg.com/profile_images/1340416446887804935/AqXVLivt_normal.jpg', profile_image_url_https='https://pbs.twimg.com/profile_images/1340416446887804935/AqXVLivt_normal.jpg', profile_banner_url='https://pbs.twimg.com/profile_banners/781482721/1584870805', profile_link_color='0084B4', profile_sidebar_border_color='FFFFFF', profile_sidebar_fill_color='DDEEF6', profile_text_color='333333', profile_use_background_image=True, has_extended_profile=False, default_profile=False, default_profile_image=False, following=False, follow_request_sent=False, notifications=False, translator_type='none', withheld_in_countries=[]), user=User(_api=<tweepy.api.API object at 0x00000196057129A0>, _json={'id': 781482721, 'id_str': '781482721', 'name': 'Rickle Pick 🥒', 'screen_name': 'unspokenprophcy', 'location': '', 'description': 'Be a good person, that is all.', 'url': None, 'entities': {'description': {'urls': []}}, 'protected': False, 'followers_count': 389, 'friends_count': 686, 'listed_count': 1, 'created_at': 'Sun Aug 26 01:53:34 +0000 2012', 'favourites_count': 19460, 'utc_offset': None, 'time_zone': None, 'geo_enabled': True, 'verified': False, 'statuses_count': 15628, 'lang': None, 'contributors_enabled': False, 'is_translator': False, 'is_translation_enabled': False, 'profile_background_color': 'DB2B1F', 'profile_background_image_url': 'http://abs.twimg.com/images/themes/theme1/bg.png', 'profile_background_image_url_https': 'https://abs.twimg.com/images/themes/theme1/bg.png', 'profile_background_tile': True, 'profile_image_url': 'http://pbs.twimg.com/profile_images/1340416446887804935/AqXVLivt_normal.jpg', 'profile_image_url_https': 'https://pbs.twimg.com/profile_images/1340416446887804935/AqXVLivt_normal.jpg', 'profile_banner_url': 'https://pbs.twimg.com/profile_banners/781482721/1584870805', 'profile_link_color': '0084B4', 'profile_sidebar_border_color': 'FFFFFF', 'profile_sidebar_fill_color': 'DDEEF6', 'profile_text_color': '333333', 'profile_use_background_image': True, 'has_extended_profile': False, 'default_profile': False, 'default_profile_image': False, 'following': False, 'follow_request_sent': False, 'notifications': False, 'translator_type': 'none', 'withheld_in_countries': []}, id=781482721, id_str='781482721', name='Rickle Pick 🥒', screen_name='unspokenprophcy', location='', description='Be a good person, that is all.', url=None, entities={'description': {'urls': []}}, protected=False, followers_count=389, friends_count=686, listed_count=1, created_at=datetime.datetime(2012, 8, 26, 1, 53, 34), favourites_count=19460, utc_offset=None, time_zone=None, geo_enabled=True, verified=False, statuses_count=15628, lang=None, contributors_enabled=False, is_translator=False, is_translation_enabled=False, profile_background_color='DB2B1F', profile_background_image_url='http://abs.twimg.com/images/themes/theme1/bg.png', profile_background_image_url_https='https://abs.twimg.com/images/themes/theme1/bg.png', profile_background_tile=True, profile_image_url='http://pbs.twimg.com/profile_images/1340416446887804935/AqXVLivt_normal.jpg', profile_image_url_https='https://pbs.twimg.com/profile_images/1340416446887804935/AqXVLivt_normal.jpg', profile_banner_url='https://pbs.twimg.com/profile_banners/781482721/1584870805', profile_link_color='0084B4', profile_sidebar_border_color='FFFFFF', profile_sidebar_fill_color='DDEEF6', profile_text_color='333333', profile_use_background_image=True, has_extended_profile=False, default_profile=False, default_profile_image=False, following=False, follow_request_sent=False, notifications=False, translator_type='none', withheld_in_countries=[]), geo=None, coordinates=None, place=None, contributors=None, is_quote_status=False, retweet_count=0, favorite_count=0, favorited=False, retweeted=False, lang='en')"
      ]
     },
     "execution_count": 15,
     "metadata": {},
     "output_type": "execute_result"
    }
   ],
   "source": [
    "new_status.destroy()"
   ]
  },
  {
   "cell_type": "code",
   "execution_count": 17,
   "id": "8301a9d5",
   "metadata": {},
   "outputs": [],
   "source": [
    "img_obj = api.media_upload(\"image.png\")"
   ]
  },
  {
   "cell_type": "code",
   "execution_count": 18,
   "id": "0b0d9232",
   "metadata": {},
   "outputs": [],
   "source": [
    "new_status = api.update_status(\"Hello world from the 30 days of Python @unspokenprophcy what up?\", media_ids=[img_obj.media_id_string])"
   ]
  },
  {
   "cell_type": "code",
   "execution_count": 19,
   "id": "d1202164",
   "metadata": {},
   "outputs": [
    {
     "data": {
      "text/plain": [
       "Status(_api=<tweepy.api.API object at 0x00000196057129A0>, _json={'created_at': 'Thu Jun 10 23:06:36 +0000 2021', 'id': 1403126478955548675, 'id_str': '1403126478955548675', 'text': 'Hello world from the 30 days of Python @unspokenprophcy what up? https://t.co/ThBXCVxohC', 'truncated': False, 'entities': {'hashtags': [], 'symbols': [], 'user_mentions': [{'screen_name': 'unspokenprophcy', 'name': 'Rickle Pick 🥒', 'id': 781482721, 'id_str': '781482721', 'indices': [39, 55]}], 'urls': [], 'media': [{'id': 1403126122276175877, 'id_str': '1403126122276175877', 'indices': [65, 88], 'media_url': 'http://pbs.twimg.com/media/E3jnxi1XwAUdQNG.png', 'media_url_https': 'https://pbs.twimg.com/media/E3jnxi1XwAUdQNG.png', 'url': 'https://t.co/ThBXCVxohC', 'display_url': 'pic.twitter.com/ThBXCVxohC', 'expanded_url': 'https://twitter.com/unspokenprophcy/status/1403126478955548675/photo/1', 'type': 'photo', 'sizes': {'medium': {'w': 316, 'h': 38, 'resize': 'fit'}, 'large': {'w': 316, 'h': 38, 'resize': 'fit'}, 'thumb': {'w': 38, 'h': 38, 'resize': 'crop'}, 'small': {'w': 316, 'h': 38, 'resize': 'fit'}}}]}, 'extended_entities': {'media': [{'id': 1403126122276175877, 'id_str': '1403126122276175877', 'indices': [65, 88], 'media_url': 'http://pbs.twimg.com/media/E3jnxi1XwAUdQNG.png', 'media_url_https': 'https://pbs.twimg.com/media/E3jnxi1XwAUdQNG.png', 'url': 'https://t.co/ThBXCVxohC', 'display_url': 'pic.twitter.com/ThBXCVxohC', 'expanded_url': 'https://twitter.com/unspokenprophcy/status/1403126478955548675/photo/1', 'type': 'photo', 'sizes': {'medium': {'w': 316, 'h': 38, 'resize': 'fit'}, 'large': {'w': 316, 'h': 38, 'resize': 'fit'}, 'thumb': {'w': 38, 'h': 38, 'resize': 'crop'}, 'small': {'w': 316, 'h': 38, 'resize': 'fit'}}}]}, 'source': '<a href=\"https://help.twitter.com/en/using-twitter/how-to-tweet#source-labels\" rel=\"nofollow\">User Profile Data</a>', 'in_reply_to_status_id': None, 'in_reply_to_status_id_str': None, 'in_reply_to_user_id': None, 'in_reply_to_user_id_str': None, 'in_reply_to_screen_name': None, 'user': {'id': 781482721, 'id_str': '781482721', 'name': 'Rickle Pick 🥒', 'screen_name': 'unspokenprophcy', 'location': '', 'description': 'Be a good person, that is all.', 'url': None, 'entities': {'description': {'urls': []}}, 'protected': False, 'followers_count': 389, 'friends_count': 686, 'listed_count': 1, 'created_at': 'Sun Aug 26 01:53:34 +0000 2012', 'favourites_count': 19460, 'utc_offset': None, 'time_zone': None, 'geo_enabled': True, 'verified': False, 'statuses_count': 15628, 'lang': None, 'contributors_enabled': False, 'is_translator': False, 'is_translation_enabled': False, 'profile_background_color': 'DB2B1F', 'profile_background_image_url': 'http://abs.twimg.com/images/themes/theme1/bg.png', 'profile_background_image_url_https': 'https://abs.twimg.com/images/themes/theme1/bg.png', 'profile_background_tile': True, 'profile_image_url': 'http://pbs.twimg.com/profile_images/1340416446887804935/AqXVLivt_normal.jpg', 'profile_image_url_https': 'https://pbs.twimg.com/profile_images/1340416446887804935/AqXVLivt_normal.jpg', 'profile_banner_url': 'https://pbs.twimg.com/profile_banners/781482721/1584870805', 'profile_link_color': '0084B4', 'profile_sidebar_border_color': 'FFFFFF', 'profile_sidebar_fill_color': 'DDEEF6', 'profile_text_color': '333333', 'profile_use_background_image': True, 'has_extended_profile': False, 'default_profile': False, 'default_profile_image': False, 'following': False, 'follow_request_sent': False, 'notifications': False, 'translator_type': 'none', 'withheld_in_countries': []}, 'geo': None, 'coordinates': None, 'place': None, 'contributors': None, 'is_quote_status': False, 'retweet_count': 0, 'favorite_count': 0, 'favorited': False, 'retweeted': False, 'possibly_sensitive': False, 'lang': 'en'}, created_at=datetime.datetime(2021, 6, 10, 23, 6, 36), id=1403126478955548675, id_str='1403126478955548675', text='Hello world from the 30 days of Python @unspokenprophcy what up? https://t.co/ThBXCVxohC', truncated=False, entities={'hashtags': [], 'symbols': [], 'user_mentions': [{'screen_name': 'unspokenprophcy', 'name': 'Rickle Pick 🥒', 'id': 781482721, 'id_str': '781482721', 'indices': [39, 55]}], 'urls': [], 'media': [{'id': 1403126122276175877, 'id_str': '1403126122276175877', 'indices': [65, 88], 'media_url': 'http://pbs.twimg.com/media/E3jnxi1XwAUdQNG.png', 'media_url_https': 'https://pbs.twimg.com/media/E3jnxi1XwAUdQNG.png', 'url': 'https://t.co/ThBXCVxohC', 'display_url': 'pic.twitter.com/ThBXCVxohC', 'expanded_url': 'https://twitter.com/unspokenprophcy/status/1403126478955548675/photo/1', 'type': 'photo', 'sizes': {'medium': {'w': 316, 'h': 38, 'resize': 'fit'}, 'large': {'w': 316, 'h': 38, 'resize': 'fit'}, 'thumb': {'w': 38, 'h': 38, 'resize': 'crop'}, 'small': {'w': 316, 'h': 38, 'resize': 'fit'}}}]}, extended_entities={'media': [{'id': 1403126122276175877, 'id_str': '1403126122276175877', 'indices': [65, 88], 'media_url': 'http://pbs.twimg.com/media/E3jnxi1XwAUdQNG.png', 'media_url_https': 'https://pbs.twimg.com/media/E3jnxi1XwAUdQNG.png', 'url': 'https://t.co/ThBXCVxohC', 'display_url': 'pic.twitter.com/ThBXCVxohC', 'expanded_url': 'https://twitter.com/unspokenprophcy/status/1403126478955548675/photo/1', 'type': 'photo', 'sizes': {'medium': {'w': 316, 'h': 38, 'resize': 'fit'}, 'large': {'w': 316, 'h': 38, 'resize': 'fit'}, 'thumb': {'w': 38, 'h': 38, 'resize': 'crop'}, 'small': {'w': 316, 'h': 38, 'resize': 'fit'}}}]}, source='User Profile Data', source_url='https://help.twitter.com/en/using-twitter/how-to-tweet#source-labels', in_reply_to_status_id=None, in_reply_to_status_id_str=None, in_reply_to_user_id=None, in_reply_to_user_id_str=None, in_reply_to_screen_name=None, author=User(_api=<tweepy.api.API object at 0x00000196057129A0>, _json={'id': 781482721, 'id_str': '781482721', 'name': 'Rickle Pick 🥒', 'screen_name': 'unspokenprophcy', 'location': '', 'description': 'Be a good person, that is all.', 'url': None, 'entities': {'description': {'urls': []}}, 'protected': False, 'followers_count': 389, 'friends_count': 686, 'listed_count': 1, 'created_at': 'Sun Aug 26 01:53:34 +0000 2012', 'favourites_count': 19460, 'utc_offset': None, 'time_zone': None, 'geo_enabled': True, 'verified': False, 'statuses_count': 15628, 'lang': None, 'contributors_enabled': False, 'is_translator': False, 'is_translation_enabled': False, 'profile_background_color': 'DB2B1F', 'profile_background_image_url': 'http://abs.twimg.com/images/themes/theme1/bg.png', 'profile_background_image_url_https': 'https://abs.twimg.com/images/themes/theme1/bg.png', 'profile_background_tile': True, 'profile_image_url': 'http://pbs.twimg.com/profile_images/1340416446887804935/AqXVLivt_normal.jpg', 'profile_image_url_https': 'https://pbs.twimg.com/profile_images/1340416446887804935/AqXVLivt_normal.jpg', 'profile_banner_url': 'https://pbs.twimg.com/profile_banners/781482721/1584870805', 'profile_link_color': '0084B4', 'profile_sidebar_border_color': 'FFFFFF', 'profile_sidebar_fill_color': 'DDEEF6', 'profile_text_color': '333333', 'profile_use_background_image': True, 'has_extended_profile': False, 'default_profile': False, 'default_profile_image': False, 'following': False, 'follow_request_sent': False, 'notifications': False, 'translator_type': 'none', 'withheld_in_countries': []}, id=781482721, id_str='781482721', name='Rickle Pick 🥒', screen_name='unspokenprophcy', location='', description='Be a good person, that is all.', url=None, entities={'description': {'urls': []}}, protected=False, followers_count=389, friends_count=686, listed_count=1, created_at=datetime.datetime(2012, 8, 26, 1, 53, 34), favourites_count=19460, utc_offset=None, time_zone=None, geo_enabled=True, verified=False, statuses_count=15628, lang=None, contributors_enabled=False, is_translator=False, is_translation_enabled=False, profile_background_color='DB2B1F', profile_background_image_url='http://abs.twimg.com/images/themes/theme1/bg.png', profile_background_image_url_https='https://abs.twimg.com/images/themes/theme1/bg.png', profile_background_tile=True, profile_image_url='http://pbs.twimg.com/profile_images/1340416446887804935/AqXVLivt_normal.jpg', profile_image_url_https='https://pbs.twimg.com/profile_images/1340416446887804935/AqXVLivt_normal.jpg', profile_banner_url='https://pbs.twimg.com/profile_banners/781482721/1584870805', profile_link_color='0084B4', profile_sidebar_border_color='FFFFFF', profile_sidebar_fill_color='DDEEF6', profile_text_color='333333', profile_use_background_image=True, has_extended_profile=False, default_profile=False, default_profile_image=False, following=False, follow_request_sent=False, notifications=False, translator_type='none', withheld_in_countries=[]), user=User(_api=<tweepy.api.API object at 0x00000196057129A0>, _json={'id': 781482721, 'id_str': '781482721', 'name': 'Rickle Pick 🥒', 'screen_name': 'unspokenprophcy', 'location': '', 'description': 'Be a good person, that is all.', 'url': None, 'entities': {'description': {'urls': []}}, 'protected': False, 'followers_count': 389, 'friends_count': 686, 'listed_count': 1, 'created_at': 'Sun Aug 26 01:53:34 +0000 2012', 'favourites_count': 19460, 'utc_offset': None, 'time_zone': None, 'geo_enabled': True, 'verified': False, 'statuses_count': 15628, 'lang': None, 'contributors_enabled': False, 'is_translator': False, 'is_translation_enabled': False, 'profile_background_color': 'DB2B1F', 'profile_background_image_url': 'http://abs.twimg.com/images/themes/theme1/bg.png', 'profile_background_image_url_https': 'https://abs.twimg.com/images/themes/theme1/bg.png', 'profile_background_tile': True, 'profile_image_url': 'http://pbs.twimg.com/profile_images/1340416446887804935/AqXVLivt_normal.jpg', 'profile_image_url_https': 'https://pbs.twimg.com/profile_images/1340416446887804935/AqXVLivt_normal.jpg', 'profile_banner_url': 'https://pbs.twimg.com/profile_banners/781482721/1584870805', 'profile_link_color': '0084B4', 'profile_sidebar_border_color': 'FFFFFF', 'profile_sidebar_fill_color': 'DDEEF6', 'profile_text_color': '333333', 'profile_use_background_image': True, 'has_extended_profile': False, 'default_profile': False, 'default_profile_image': False, 'following': False, 'follow_request_sent': False, 'notifications': False, 'translator_type': 'none', 'withheld_in_countries': []}, id=781482721, id_str='781482721', name='Rickle Pick 🥒', screen_name='unspokenprophcy', location='', description='Be a good person, that is all.', url=None, entities={'description': {'urls': []}}, protected=False, followers_count=389, friends_count=686, listed_count=1, created_at=datetime.datetime(2012, 8, 26, 1, 53, 34), favourites_count=19460, utc_offset=None, time_zone=None, geo_enabled=True, verified=False, statuses_count=15628, lang=None, contributors_enabled=False, is_translator=False, is_translation_enabled=False, profile_background_color='DB2B1F', profile_background_image_url='http://abs.twimg.com/images/themes/theme1/bg.png', profile_background_image_url_https='https://abs.twimg.com/images/themes/theme1/bg.png', profile_background_tile=True, profile_image_url='http://pbs.twimg.com/profile_images/1340416446887804935/AqXVLivt_normal.jpg', profile_image_url_https='https://pbs.twimg.com/profile_images/1340416446887804935/AqXVLivt_normal.jpg', profile_banner_url='https://pbs.twimg.com/profile_banners/781482721/1584870805', profile_link_color='0084B4', profile_sidebar_border_color='FFFFFF', profile_sidebar_fill_color='DDEEF6', profile_text_color='333333', profile_use_background_image=True, has_extended_profile=False, default_profile=False, default_profile_image=False, following=False, follow_request_sent=False, notifications=False, translator_type='none', withheld_in_countries=[]), geo=None, coordinates=None, place=None, contributors=None, is_quote_status=False, retweet_count=0, favorite_count=0, favorited=False, retweeted=False, possibly_sensitive=False, lang='en')"
      ]
     },
     "execution_count": 19,
     "metadata": {},
     "output_type": "execute_result"
    }
   ],
   "source": [
    "new_status.destroy()"
   ]
  },
  {
   "cell_type": "code",
   "execution_count": null,
   "id": "4034a024",
   "metadata": {},
   "outputs": [],
   "source": []
  }
 ],
 "metadata": {
  "kernelspec": {
   "display_name": "Python 3",
   "language": "python",
   "name": "python3"
  },
  "language_info": {
   "codemirror_mode": {
    "name": "ipython",
    "version": 3
   },
   "file_extension": ".py",
   "mimetype": "text/x-python",
   "name": "python",
   "nbconvert_exporter": "python",
   "pygments_lexer": "ipython3",
   "version": "3.9.5"
  }
 },
 "nbformat": 4,
 "nbformat_minor": 5
}
