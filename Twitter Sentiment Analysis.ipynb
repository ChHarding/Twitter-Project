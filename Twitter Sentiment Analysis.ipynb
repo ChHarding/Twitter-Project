{
 "cells": [
  {
   "cell_type": "code",
   "execution_count": 1,
   "id": "e97082d9",
   "metadata": {},
   "outputs": [],
   "source": [
    "import pandas as pd\n",
    "import numpy as np\n",
    "import matplotlib.pyplot as plt\n",
    "import time\n",
    "import tweepy\n",
    "import re"
   ]
  },
  {
   "cell_type": "code",
   "execution_count": 2,
   "id": "88cc4a8b",
   "metadata": {},
   "outputs": [
    {
     "name": "stdout",
     "output_type": "stream",
     "text": [
      "Requirement already satisfied: VaderSentiment in c:\\users\\black\\appdata\\local\\programs\\python\\python39\\lib\\site-packages (3.3.2)\n",
      "Requirement already satisfied: requests in c:\\users\\black\\appdata\\local\\programs\\python\\python39\\lib\\site-packages (from VaderSentiment) (2.25.1)\n",
      "Requirement already satisfied: chardet<5,>=3.0.2 in c:\\users\\black\\appdata\\local\\programs\\python\\python39\\lib\\site-packages (from requests->VaderSentiment) (4.0.0)\n",
      "Requirement already satisfied: certifi>=2017.4.17 in c:\\users\\black\\appdata\\local\\programs\\python\\python39\\lib\\site-packages (from requests->VaderSentiment) (2021.5.30)\n",
      "Requirement already satisfied: urllib3<1.27,>=1.21.1 in c:\\users\\black\\appdata\\local\\programs\\python\\python39\\lib\\site-packages (from requests->VaderSentiment) (1.26.5)\n",
      "Requirement already satisfied: idna<3,>=2.5 in c:\\users\\black\\appdata\\local\\programs\\python\\python39\\lib\\site-packages (from requests->VaderSentiment) (2.10)\n",
      "Note: you may need to restart the kernel to use updated packages.\n"
     ]
    }
   ],
   "source": [
    "pip install VaderSentiment"
   ]
  },
  {
   "cell_type": "code",
   "execution_count": 3,
   "id": "e677bfaa",
   "metadata": {},
   "outputs": [],
   "source": [
    "from vaderSentiment.vaderSentiment import SentimentIntensityAnalyzer\n",
    "analyzer = SentimentIntensityAnalyzer()"
   ]
  },
  {
   "cell_type": "code",
   "execution_count": 4,
   "id": "83e99f0d",
   "metadata": {},
   "outputs": [],
   "source": [
    "consumer_key = \"jzn0NU9EviCRRbONbUXX9a8VN\"\n",
    "consumer_secret = \"ULsKu9BjBPmZ3yY5NdS6EXUhGBNWKUWxtwKqFktBeqsOq1Y3ZQ\"\n",
    "access_key = \"781482721-6928Gtnj95bK82PW3fYDxHFvU5T4l3SPI4VVF1X2\"\n",
    "access_secret = \"fTxclLJ4oxEmqshRhSbBibGoUiNq1l6941C0VyREdTf41\"\n",
    "    \n",
    "def initialize():\n",
    "    auth = tweepy.OAuthHandler(consumer_key, consumer_secret)\n",
    "    auth.set_access_token(access_key, access_secret)\n",
    "    api = tweepy.API(auth, parser = tweepy.parsers.JSONParser())\n",
    "    return api\n",
    "api = initialize()"
   ]
  },
  {
   "cell_type": "code",
   "execution_count": 5,
   "id": "ed37daeb",
   "metadata": {},
   "outputs": [],
   "source": [
    "comp_searches = (\"@socialmedia2day\", \"@GoogleAds\", \"@Instagram\", \"@Facebook\", \"@Twitter\")"
   ]
  },
  {
   "cell_type": "code",
   "execution_count": 6,
   "id": "48cc73c8",
   "metadata": {},
   "outputs": [],
   "source": [
    "#This code to find out the trending topic on Twitter. Purpose of use for market research. \n",
    "#This satisfies the statistical data for markters, as they are the stakeholders of this project\n",
    "#referenced from https://python.plainenglish.io/twitter-sentiment-analysis-using-vader-tweepy-b2a62fba151e\n",
    "#adjusted by changing variables names and accounts to compare statistical data of"
   ]
  },
  {
   "cell_type": "code",
   "execution_count": 7,
   "id": "106176ce",
   "metadata": {},
   "outputs": [],
   "source": [
    "# Array to hold sentiment\n",
    "sentiments = []\n",
    "# Iterate through all the comp_searches\n",
    "for search in comp_searches:\n",
    "       \n",
    "    # Bring out the 200 tweets\n",
    "    comp_tweets = api.user_timeline(search, count=200)#counts how many tweets per account in variable comp_search\n",
    "    #1000 tweets divided by 5 accounts is 200\n",
    "    #200 counts tweets per account will be iterated as sufficient data amount\n",
    "    \n",
    "    # Loop through the most recent 200 tweets\n",
    "    for tweet in comp_tweets:\n",
    "        text = tweet[\"text\"]\n",
    "        \n",
    "     # Add each value to the appropriate array #\n",
    "     #pulls Tweets & replies from specified Twitter account\n",
    "        sentiments.append({\"User\": search,\n",
    "                           \"text\":text, \n",
    "                       \"Date\": tweet[\"created_at\"] \n",
    "                        })"
   ]
  },
  {
   "cell_type": "code",
   "execution_count": 8,
   "id": "35a2e512",
   "metadata": {},
   "outputs": [
    {
     "data": {
      "text/html": [
       "<div>\n",
       "<style scoped>\n",
       "    .dataframe tbody tr th:only-of-type {\n",
       "        vertical-align: middle;\n",
       "    }\n",
       "\n",
       "    .dataframe tbody tr th {\n",
       "        vertical-align: top;\n",
       "    }\n",
       "\n",
       "    .dataframe thead th {\n",
       "        text-align: right;\n",
       "    }\n",
       "</style>\n",
       "<table border=\"1\" class=\"dataframe\">\n",
       "  <thead>\n",
       "    <tr style=\"text-align: right;\">\n",
       "      <th></th>\n",
       "      <th>User</th>\n",
       "      <th>text</th>\n",
       "      <th>Date</th>\n",
       "    </tr>\n",
       "  </thead>\n",
       "  <tbody>\n",
       "    <tr>\n",
       "      <th>0</th>\n",
       "      <td>@socialmedia2day</td>\n",
       "      <td>Good web safety reminders (via contributor @ir...</td>\n",
       "      <td>Thu Jun 24 00:30:07 +0000 2021</td>\n",
       "    </tr>\n",
       "    <tr>\n",
       "      <th>1</th>\n",
       "      <td>@socialmedia2day</td>\n",
       "      <td>A new app promotion opportunity on TikTok http...</td>\n",
       "      <td>Wed Jun 23 23:30:08 +0000 2021</td>\n",
       "    </tr>\n",
       "    <tr>\n",
       "      <th>2</th>\n",
       "      <td>@socialmedia2day</td>\n",
       "      <td>A valuable read for Pin marketers https://t.co...</td>\n",
       "      <td>Wed Jun 23 22:45:02 +0000 2021</td>\n",
       "    </tr>\n",
       "    <tr>\n",
       "      <th>3</th>\n",
       "      <td>@socialmedia2day</td>\n",
       "      <td>Pinterest continues to grow its international ...</td>\n",
       "      <td>Wed Jun 23 22:15:02 +0000 2021</td>\n",
       "    </tr>\n",
       "    <tr>\n",
       "      <th>4</th>\n",
       "      <td>@socialmedia2day</td>\n",
       "      <td>A handy list of all the key dates https://t.co...</td>\n",
       "      <td>Wed Jun 23 21:45:03 +0000 2021</td>\n",
       "    </tr>\n",
       "    <tr>\n",
       "      <th>...</th>\n",
       "      <td>...</td>\n",
       "      <td>...</td>\n",
       "      <td>...</td>\n",
       "    </tr>\n",
       "    <tr>\n",
       "      <th>994</th>\n",
       "      <td>@Twitter</td>\n",
       "      <td>@salanghaelouis salad in the wind</td>\n",
       "      <td>Tue Mar 02 16:37:36 +0000 2021</td>\n",
       "    </tr>\n",
       "    <tr>\n",
       "      <th>995</th>\n",
       "      <td>@Twitter</td>\n",
       "      <td>@sithvers it worked</td>\n",
       "      <td>Tue Mar 02 16:36:35 +0000 2021</td>\n",
       "    </tr>\n",
       "    <tr>\n",
       "      <th>996</th>\n",
       "      <td>@Twitter</td>\n",
       "      <td>@CFC_Theo were you manifesting a reply?</td>\n",
       "      <td>Tue Mar 02 16:36:00 +0000 2021</td>\n",
       "    </tr>\n",
       "    <tr>\n",
       "      <th>997</th>\n",
       "      <td>@Twitter</td>\n",
       "      <td>@DANVERSFILMS black widow release</td>\n",
       "      <td>Tue Mar 02 16:33:28 +0000 2021</td>\n",
       "    </tr>\n",
       "    <tr>\n",
       "      <th>998</th>\n",
       "      <td>@Twitter</td>\n",
       "      <td>@zenbqya can't watch this bc spoilers</td>\n",
       "      <td>Tue Mar 02 16:32:09 +0000 2021</td>\n",
       "    </tr>\n",
       "  </tbody>\n",
       "</table>\n",
       "<p>999 rows × 3 columns</p>\n",
       "</div>"
      ],
      "text/plain": [
       "                 User                                               text  \\\n",
       "0    @socialmedia2day  Good web safety reminders (via contributor @ir...   \n",
       "1    @socialmedia2day  A new app promotion opportunity on TikTok http...   \n",
       "2    @socialmedia2day  A valuable read for Pin marketers https://t.co...   \n",
       "3    @socialmedia2day  Pinterest continues to grow its international ...   \n",
       "4    @socialmedia2day  A handy list of all the key dates https://t.co...   \n",
       "..                ...                                                ...   \n",
       "994          @Twitter                  @salanghaelouis salad in the wind   \n",
       "995          @Twitter                                @sithvers it worked   \n",
       "996          @Twitter            @CFC_Theo were you manifesting a reply?   \n",
       "997          @Twitter                  @DANVERSFILMS black widow release   \n",
       "998          @Twitter              @zenbqya can't watch this bc spoilers   \n",
       "\n",
       "                               Date  \n",
       "0    Thu Jun 24 00:30:07 +0000 2021  \n",
       "1    Wed Jun 23 23:30:08 +0000 2021  \n",
       "2    Wed Jun 23 22:45:02 +0000 2021  \n",
       "3    Wed Jun 23 22:15:02 +0000 2021  \n",
       "4    Wed Jun 23 21:45:03 +0000 2021  \n",
       "..                              ...  \n",
       "994  Tue Mar 02 16:37:36 +0000 2021  \n",
       "995  Tue Mar 02 16:36:35 +0000 2021  \n",
       "996  Tue Mar 02 16:36:00 +0000 2021  \n",
       "997  Tue Mar 02 16:33:28 +0000 2021  \n",
       "998  Tue Mar 02 16:32:09 +0000 2021  \n",
       "\n",
       "[999 rows x 3 columns]"
      ]
     },
     "execution_count": 8,
     "metadata": {},
     "output_type": "execute_result"
    }
   ],
   "source": [
    "#convert array to dataframe\n",
    "df = pd.DataFrame.from_dict(sentiments)\n",
    "df.head(1002)#limit is 1000 rows"
   ]
  },
  {
   "cell_type": "code",
   "execution_count": 9,
   "id": "23055922",
   "metadata": {},
   "outputs": [],
   "source": [
    "df.to_csv('tweetsentimentanalysis.csv', index=False)"
   ]
  },
  {
   "cell_type": "code",
   "execution_count": 10,
   "id": "44da1e34",
   "metadata": {},
   "outputs": [
    {
     "data": {
      "text/html": [
       "<div>\n",
       "<style scoped>\n",
       "    .dataframe tbody tr th:only-of-type {\n",
       "        vertical-align: middle;\n",
       "    }\n",
       "\n",
       "    .dataframe tbody tr th {\n",
       "        vertical-align: top;\n",
       "    }\n",
       "\n",
       "    .dataframe thead th {\n",
       "        text-align: right;\n",
       "    }\n",
       "</style>\n",
       "<table border=\"1\" class=\"dataframe\">\n",
       "  <thead>\n",
       "    <tr style=\"text-align: right;\">\n",
       "      <th></th>\n",
       "      <th>User</th>\n",
       "      <th>text</th>\n",
       "      <th>Date</th>\n",
       "    </tr>\n",
       "  </thead>\n",
       "  <tbody>\n",
       "    <tr>\n",
       "      <th>0</th>\n",
       "      <td>@socialmedia2day</td>\n",
       "      <td>Good web safety reminders (via contributor @ir...</td>\n",
       "      <td>Thu Jun 24 00:30:07 +0000 2021</td>\n",
       "    </tr>\n",
       "    <tr>\n",
       "      <th>1</th>\n",
       "      <td>@socialmedia2day</td>\n",
       "      <td>A new app promotion opportunity on TikTok http...</td>\n",
       "      <td>Wed Jun 23 23:30:08 +0000 2021</td>\n",
       "    </tr>\n",
       "    <tr>\n",
       "      <th>2</th>\n",
       "      <td>@socialmedia2day</td>\n",
       "      <td>A valuable read for Pin marketers https://t.co...</td>\n",
       "      <td>Wed Jun 23 22:45:02 +0000 2021</td>\n",
       "    </tr>\n",
       "    <tr>\n",
       "      <th>3</th>\n",
       "      <td>@socialmedia2day</td>\n",
       "      <td>Pinterest continues to grow its international ...</td>\n",
       "      <td>Wed Jun 23 22:15:02 +0000 2021</td>\n",
       "    </tr>\n",
       "    <tr>\n",
       "      <th>4</th>\n",
       "      <td>@socialmedia2day</td>\n",
       "      <td>A handy list of all the key dates https://t.co...</td>\n",
       "      <td>Wed Jun 23 21:45:03 +0000 2021</td>\n",
       "    </tr>\n",
       "    <tr>\n",
       "      <th>...</th>\n",
       "      <td>...</td>\n",
       "      <td>...</td>\n",
       "      <td>...</td>\n",
       "    </tr>\n",
       "    <tr>\n",
       "      <th>994</th>\n",
       "      <td>@Twitter</td>\n",
       "      <td>@salanghaelouis salad in the wind</td>\n",
       "      <td>Tue Mar 02 16:37:36 +0000 2021</td>\n",
       "    </tr>\n",
       "    <tr>\n",
       "      <th>995</th>\n",
       "      <td>@Twitter</td>\n",
       "      <td>@sithvers it worked</td>\n",
       "      <td>Tue Mar 02 16:36:35 +0000 2021</td>\n",
       "    </tr>\n",
       "    <tr>\n",
       "      <th>996</th>\n",
       "      <td>@Twitter</td>\n",
       "      <td>@CFC_Theo were you manifesting a reply?</td>\n",
       "      <td>Tue Mar 02 16:36:00 +0000 2021</td>\n",
       "    </tr>\n",
       "    <tr>\n",
       "      <th>997</th>\n",
       "      <td>@Twitter</td>\n",
       "      <td>@DANVERSFILMS black widow release</td>\n",
       "      <td>Tue Mar 02 16:33:28 +0000 2021</td>\n",
       "    </tr>\n",
       "    <tr>\n",
       "      <th>998</th>\n",
       "      <td>@Twitter</td>\n",
       "      <td>@zenbqya can't watch this bc spoilers</td>\n",
       "      <td>Tue Mar 02 16:32:09 +0000 2021</td>\n",
       "    </tr>\n",
       "  </tbody>\n",
       "</table>\n",
       "<p>999 rows × 3 columns</p>\n",
       "</div>"
      ],
      "text/plain": [
       "                 User                                               text  \\\n",
       "0    @socialmedia2day  Good web safety reminders (via contributor @ir...   \n",
       "1    @socialmedia2day  A new app promotion opportunity on TikTok http...   \n",
       "2    @socialmedia2day  A valuable read for Pin marketers https://t.co...   \n",
       "3    @socialmedia2day  Pinterest continues to grow its international ...   \n",
       "4    @socialmedia2day  A handy list of all the key dates https://t.co...   \n",
       "..                ...                                                ...   \n",
       "994          @Twitter                  @salanghaelouis salad in the wind   \n",
       "995          @Twitter                                @sithvers it worked   \n",
       "996          @Twitter            @CFC_Theo were you manifesting a reply?   \n",
       "997          @Twitter                  @DANVERSFILMS black widow release   \n",
       "998          @Twitter              @zenbqya can't watch this bc spoilers   \n",
       "\n",
       "                               Date  \n",
       "0    Thu Jun 24 00:30:07 +0000 2021  \n",
       "1    Wed Jun 23 23:30:08 +0000 2021  \n",
       "2    Wed Jun 23 22:45:02 +0000 2021  \n",
       "3    Wed Jun 23 22:15:02 +0000 2021  \n",
       "4    Wed Jun 23 21:45:03 +0000 2021  \n",
       "..                              ...  \n",
       "994  Tue Mar 02 16:37:36 +0000 2021  \n",
       "995  Tue Mar 02 16:36:35 +0000 2021  \n",
       "996  Tue Mar 02 16:36:00 +0000 2021  \n",
       "997  Tue Mar 02 16:33:28 +0000 2021  \n",
       "998  Tue Mar 02 16:32:09 +0000 2021  \n",
       "\n",
       "[999 rows x 3 columns]"
      ]
     },
     "execution_count": 10,
     "metadata": {},
     "output_type": "execute_result"
    }
   ],
   "source": [
    "df_saved_file = pd.read_csv('tweetsentimentanalysis.csv')\n",
    "df_saved_file"
   ]
  },
  {
   "cell_type": "code",
   "execution_count": 11,
   "id": "77945b3a",
   "metadata": {},
   "outputs": [
    {
     "data": {
      "text/html": [
       "<div>\n",
       "<style scoped>\n",
       "    .dataframe tbody tr th:only-of-type {\n",
       "        vertical-align: middle;\n",
       "    }\n",
       "\n",
       "    .dataframe tbody tr th {\n",
       "        vertical-align: top;\n",
       "    }\n",
       "\n",
       "    .dataframe thead th {\n",
       "        text-align: right;\n",
       "    }\n",
       "</style>\n",
       "<table border=\"1\" class=\"dataframe\">\n",
       "  <thead>\n",
       "    <tr style=\"text-align: right;\">\n",
       "      <th></th>\n",
       "      <th>User</th>\n",
       "      <th>text</th>\n",
       "      <th>Date</th>\n",
       "    </tr>\n",
       "  </thead>\n",
       "  <tbody>\n",
       "    <tr>\n",
       "      <th>800</th>\n",
       "      <td>@Twitter</td>\n",
       "      <td>@ashakiiii what did they expect...</td>\n",
       "      <td>Tue Jun 22 20:31:56 +0000 2021</td>\n",
       "    </tr>\n",
       "    <tr>\n",
       "      <th>801</th>\n",
       "      <td>@Twitter</td>\n",
       "      <td>@GrahamPharoah you need a raise</td>\n",
       "      <td>Tue Jun 22 20:01:08 +0000 2021</td>\n",
       "    </tr>\n",
       "    <tr>\n",
       "      <th>802</th>\n",
       "      <td>@Twitter</td>\n",
       "      <td>@DoYouEvenLif we must be related</td>\n",
       "      <td>Tue Jun 22 20:01:03 +0000 2021</td>\n",
       "    </tr>\n",
       "    <tr>\n",
       "      <th>803</th>\n",
       "      <td>@Twitter</td>\n",
       "      <td>@dommy254 No.</td>\n",
       "      <td>Tue Jun 22 19:53:41 +0000 2021</td>\n",
       "    </tr>\n",
       "    <tr>\n",
       "      <th>804</th>\n",
       "      <td>@Twitter</td>\n",
       "      <td>@dumbfuel thanks?</td>\n",
       "      <td>Tue Jun 22 19:51:15 +0000 2021</td>\n",
       "    </tr>\n",
       "  </tbody>\n",
       "</table>\n",
       "</div>"
      ],
      "text/plain": [
       "         User                                text  \\\n",
       "800  @Twitter  @ashakiiii what did they expect...   \n",
       "801  @Twitter     @GrahamPharoah you need a raise   \n",
       "802  @Twitter    @DoYouEvenLif we must be related   \n",
       "803  @Twitter                       @dommy254 No.   \n",
       "804  @Twitter                   @dumbfuel thanks?   \n",
       "\n",
       "                               Date  \n",
       "800  Tue Jun 22 20:31:56 +0000 2021  \n",
       "801  Tue Jun 22 20:01:08 +0000 2021  \n",
       "802  Tue Jun 22 20:01:03 +0000 2021  \n",
       "803  Tue Jun 22 19:53:41 +0000 2021  \n",
       "804  Tue Jun 22 19:51:15 +0000 2021  "
      ]
     },
     "execution_count": 11,
     "metadata": {},
     "output_type": "execute_result"
    }
   ],
   "source": [
    "#to see tweets for specific User name \n",
    "df_tesla = df[ df['User'] == '@Twitter']\n",
    "df_tesla.head()"
   ]
  },
  {
   "cell_type": "code",
   "execution_count": 12,
   "id": "18c8408b",
   "metadata": {},
   "outputs": [],
   "source": [
    "#cleaning the tweets\n",
    "def remove_pattern(input_txt, pattern):\n",
    "    r = re.findall(pattern, input_txt)\n",
    "    for i in r:\n",
    "        input_txt = re.sub(i, '', input_txt)        \n",
    "    return input_txt\n",
    "def clean_tweets(tweets):\n",
    "    #remove twitter Return handles (RT @xxx:)\n",
    "    tweets = np.vectorize(remove_pattern)(tweets, \"RT @[\\w]*:\") \n",
    "    \n",
    "    #remove twitter handles (@xxx)\n",
    "    tweets = np.vectorize(remove_pattern)(tweets, \"@[\\w]*\")\n",
    "    \n",
    "    #remove URL links (httpxxx)\n",
    "    tweets = np.vectorize(remove_pattern)(tweets, \"https?://[A-Za-z0-9./]*\")\n",
    "    \n",
    "    #remove special characters, numbers, punctuations (except for #)\n",
    "    tweets = np.core.defchararray.replace(tweets, \"[^a-zA-Z]\", \" \")\n",
    "    \n",
    "    return tweets"
   ]
  },
  {
   "cell_type": "code",
   "execution_count": 13,
   "id": "ed679d95",
   "metadata": {},
   "outputs": [
    {
     "data": {
      "text/plain": [
       "0        Good web safety reminders (via contributor ) \n",
       "1           A new app promotion opportunity on TikTok \n",
       "2                   A valuable read for Pin marketers \n",
       "3    Pinterest continues to grow its international ...\n",
       "4                   A handy list of all the key dates \n",
       "Name: text, dtype: object"
      ]
     },
     "execution_count": 13,
     "metadata": {},
     "output_type": "execute_result"
    }
   ],
   "source": [
    "df['text'] = clean_tweets(df['text'])\n",
    "df['text'].head()"
   ]
  },
  {
   "cell_type": "code",
   "execution_count": 14,
   "id": "b3492f17",
   "metadata": {},
   "outputs": [],
   "source": [
    "scores = []\n",
    "# Declare variables for scores\n",
    "compound_list = []\n",
    "positive_list = []\n",
    "negative_list = []\n",
    "neutral_list = []\n",
    "for i in range(df['text'].shape[0]):\n",
    "#print(analyser.polarity_scores(sentiments_pd['text'][i]))\n",
    "    compound = analyzer.polarity_scores(df['text'][i])[\"compound\"]\n",
    "    pos = analyzer.polarity_scores(df['text'][i])[\"pos\"]\n",
    "    neu = analyzer.polarity_scores(df['text'][i])[\"neu\"]\n",
    "    neg = analyzer.polarity_scores(df['text'][i])[\"neg\"]\n",
    "    \n",
    "    scores.append({\"Compound\": compound,\n",
    "                       \"Positive\": pos,\n",
    "                       \"Negative\": neg,\n",
    "                       \"Neutral\": neu\n",
    "                  })"
   ]
  },
  {
   "cell_type": "code",
   "execution_count": 15,
   "id": "2df61ed3",
   "metadata": {},
   "outputs": [
    {
     "data": {
      "text/html": [
       "<div>\n",
       "<style scoped>\n",
       "    .dataframe tbody tr th:only-of-type {\n",
       "        vertical-align: middle;\n",
       "    }\n",
       "\n",
       "    .dataframe tbody tr th {\n",
       "        vertical-align: top;\n",
       "    }\n",
       "\n",
       "    .dataframe thead th {\n",
       "        text-align: right;\n",
       "    }\n",
       "</style>\n",
       "<table border=\"1\" class=\"dataframe\">\n",
       "  <thead>\n",
       "    <tr style=\"text-align: right;\">\n",
       "      <th></th>\n",
       "      <th>User</th>\n",
       "      <th>text</th>\n",
       "      <th>Date</th>\n",
       "      <th>Compound</th>\n",
       "      <th>Positive</th>\n",
       "      <th>Negative</th>\n",
       "      <th>Neutral</th>\n",
       "    </tr>\n",
       "  </thead>\n",
       "  <tbody>\n",
       "    <tr>\n",
       "      <th>0</th>\n",
       "      <td>@socialmedia2day</td>\n",
       "      <td>Good web safety reminders (via contributor )</td>\n",
       "      <td>Thu Jun 24 00:30:07 +0000 2021</td>\n",
       "      <td>0.6908</td>\n",
       "      <td>0.533</td>\n",
       "      <td>0.0</td>\n",
       "      <td>0.467</td>\n",
       "    </tr>\n",
       "    <tr>\n",
       "      <th>1</th>\n",
       "      <td>@socialmedia2day</td>\n",
       "      <td>A new app promotion opportunity on TikTok</td>\n",
       "      <td>Wed Jun 23 23:30:08 +0000 2021</td>\n",
       "      <td>0.4215</td>\n",
       "      <td>0.318</td>\n",
       "      <td>0.0</td>\n",
       "      <td>0.682</td>\n",
       "    </tr>\n",
       "    <tr>\n",
       "      <th>2</th>\n",
       "      <td>@socialmedia2day</td>\n",
       "      <td>A valuable read for Pin marketers</td>\n",
       "      <td>Wed Jun 23 22:45:02 +0000 2021</td>\n",
       "      <td>0.4767</td>\n",
       "      <td>0.383</td>\n",
       "      <td>0.0</td>\n",
       "      <td>0.617</td>\n",
       "    </tr>\n",
       "    <tr>\n",
       "      <th>3</th>\n",
       "      <td>@socialmedia2day</td>\n",
       "      <td>Pinterest continues to grow its international ...</td>\n",
       "      <td>Wed Jun 23 22:15:02 +0000 2021</td>\n",
       "      <td>0.0000</td>\n",
       "      <td>0.000</td>\n",
       "      <td>0.0</td>\n",
       "      <td>1.000</td>\n",
       "    </tr>\n",
       "    <tr>\n",
       "      <th>4</th>\n",
       "      <td>@socialmedia2day</td>\n",
       "      <td>A handy list of all the key dates</td>\n",
       "      <td>Wed Jun 23 21:45:03 +0000 2021</td>\n",
       "      <td>0.0000</td>\n",
       "      <td>0.000</td>\n",
       "      <td>0.0</td>\n",
       "      <td>1.000</td>\n",
       "    </tr>\n",
       "  </tbody>\n",
       "</table>\n",
       "</div>"
      ],
      "text/plain": [
       "               User                                               text  \\\n",
       "0  @socialmedia2day      Good web safety reminders (via contributor )    \n",
       "1  @socialmedia2day         A new app promotion opportunity on TikTok    \n",
       "2  @socialmedia2day                 A valuable read for Pin marketers    \n",
       "3  @socialmedia2day  Pinterest continues to grow its international ...   \n",
       "4  @socialmedia2day                 A handy list of all the key dates    \n",
       "\n",
       "                             Date  Compound  Positive  Negative  Neutral  \n",
       "0  Thu Jun 24 00:30:07 +0000 2021    0.6908     0.533       0.0    0.467  \n",
       "1  Wed Jun 23 23:30:08 +0000 2021    0.4215     0.318       0.0    0.682  \n",
       "2  Wed Jun 23 22:45:02 +0000 2021    0.4767     0.383       0.0    0.617  \n",
       "3  Wed Jun 23 22:15:02 +0000 2021    0.0000     0.000       0.0    1.000  \n",
       "4  Wed Jun 23 21:45:03 +0000 2021    0.0000     0.000       0.0    1.000  "
      ]
     },
     "execution_count": 15,
     "metadata": {},
     "output_type": "execute_result"
    }
   ],
   "source": [
    "sentiments_score = pd.DataFrame.from_dict(scores)\n",
    "df = df.join(sentiments_score)\n",
    "df.head()"
   ]
  },
  {
   "cell_type": "code",
   "execution_count": 16,
   "id": "46621a26",
   "metadata": {},
   "outputs": [
    {
     "data": {
      "text/plain": [
       "['SMTLive',\n",
       " 'SMTLive',\n",
       " 'SMTLive',\n",
       " 'SMTLive',\n",
       " 'SMTLive',\n",
       " 'SMTLive',\n",
       " 'SMTLive',\n",
       " 'SMTLive',\n",
       " 'SMTLive',\n",
       " 'SMTLive',\n",
       " 'SMTLive',\n",
       " 'SMTLive',\n",
       " 'SMTLive',\n",
       " 'SMTLive',\n",
       " 'SMTLive',\n",
       " 'SMTLive',\n",
       " 'SMTLive',\n",
       " 'SmallBusinessWeek',\n",
       " 'SmallBusinessWeek',\n",
       " 'ecommerce',\n",
       " 'GML2021',\n",
       " 'GoogleIO',\n",
       " 'GML2021',\n",
       " 'GoogleAdsTutorials',\n",
       " 'GoogleIO',\n",
       " 'WomensHistoryMonth',\n",
       " 'GoogleForIndia',\n",
       " 'WomenWill',\n",
       " 'GoogleAdsTutorials',\n",
       " 'WomensHistoryMonth',\n",
       " 'GooglePartners',\n",
       " 'BlackHistoryMonth',\n",
       " 'Web',\n",
       " 'Pride',\n",
       " 'ShareWithPride',\n",
       " 'Pride',\n",
       " 'NationalBestFriendsDay',\n",
       " 'Pride',\n",
       " 'Pride',\n",
       " 'pride',\n",
       " 'pridefamily',\n",
       " 'genderfluid',\n",
       " 'gayvisibility',\n",
       " 'Pride',\n",
       " 'Pride',\n",
       " 'ShareWithPride',\n",
       " 'TakeABreak',\n",
       " 'MentalHealthAwarenessMonth',\n",
       " 'WeeklyFluff',\n",
       " 'this',\n",
       " 'MothersDay',\n",
       " 'MayThe4thBeWithYou',\n",
       " 'TakeABreak',\n",
       " 'APIHM',\n",
       " 'NFLdraft',\n",
       " 'NationalPetDay',\n",
       " 'WeeklyFluff',\n",
       " 'WeeklyFluff',\n",
       " 'TransDayOfVisibility',\n",
       " 'JuneTeenth2021',\n",
       " 'WorldBloodDonorDay',\n",
       " 'pride',\n",
       " 'pride',\n",
       " 'Pride',\n",
       " 'APAHM',\n",
       " 'EarthDay',\n",
       " 'EarthDay']"
      ]
     },
     "execution_count": 16,
     "metadata": {},
     "output_type": "execute_result"
    }
   ],
   "source": [
    "HT_positive = []\n",
    "def hashtag_extract(x):\n",
    "    hashtags = []\n",
    "    # Loop over the words in the tweet\n",
    "    for i in x:\n",
    "        ht = re.findall(r\"#(\\w+)\", i)\n",
    "        hashtags.append(ht)\n",
    "    return hashtags\n",
    "# extracting hashtags from positive tweetsHT_positive = hashtag_extract(df_tws['text'][df_tws['sent'] == 1])\n",
    "# extracting hashtags from  tweets\n",
    "HT_positive = hashtag_extract(df['text'][df['Compound'] > 0.5])\n",
    "# unnesting list\n",
    "HT_positive = sum(HT_positive,[])\n",
    "HT_positive"
   ]
  },
  {
   "cell_type": "code",
   "execution_count": 17,
   "id": "d154d292",
   "metadata": {},
   "outputs": [
    {
     "data": {
      "text/html": [
       "<div>\n",
       "<style scoped>\n",
       "    .dataframe tbody tr th:only-of-type {\n",
       "        vertical-align: middle;\n",
       "    }\n",
       "\n",
       "    .dataframe tbody tr th {\n",
       "        vertical-align: top;\n",
       "    }\n",
       "\n",
       "    .dataframe thead th {\n",
       "        text-align: right;\n",
       "    }\n",
       "</style>\n",
       "<table border=\"1\" class=\"dataframe\">\n",
       "  <thead>\n",
       "    <tr style=\"text-align: right;\">\n",
       "      <th></th>\n",
       "      <th>Compound</th>\n",
       "    </tr>\n",
       "    <tr>\n",
       "      <th>User</th>\n",
       "      <th></th>\n",
       "    </tr>\n",
       "  </thead>\n",
       "  <tbody>\n",
       "    <tr>\n",
       "      <th>@Facebook</th>\n",
       "      <td>0.337542</td>\n",
       "    </tr>\n",
       "    <tr>\n",
       "      <th>@GoogleAds</th>\n",
       "      <td>0.315106</td>\n",
       "    </tr>\n",
       "    <tr>\n",
       "      <th>@Instagram</th>\n",
       "      <td>0.289058</td>\n",
       "    </tr>\n",
       "    <tr>\n",
       "      <th>@Twitter</th>\n",
       "      <td>0.130433</td>\n",
       "    </tr>\n",
       "    <tr>\n",
       "      <th>@socialmedia2day</th>\n",
       "      <td>0.230866</td>\n",
       "    </tr>\n",
       "  </tbody>\n",
       "</table>\n",
       "</div>"
      ],
      "text/plain": [
       "                  Compound\n",
       "User                      \n",
       "@Facebook         0.337542\n",
       "@GoogleAds        0.315106\n",
       "@Instagram        0.289058\n",
       "@Twitter          0.130433\n",
       "@socialmedia2day  0.230866"
      ]
     },
     "execution_count": 17,
     "metadata": {},
     "output_type": "execute_result"
    }
   ],
   "source": [
    "#Collect the compound values for each news source\n",
    "score_table = df.pivot_table(index='User',  values=\"Compound\", aggfunc = np.mean)\n",
    "score_table"
   ]
  },
  {
   "cell_type": "code",
   "execution_count": 18,
   "id": "804d8b7b",
   "metadata": {},
   "outputs": [
    {
     "data": {
      "text/plain": [
       "<AxesSubplot:xlabel='User'>"
      ]
     },
     "execution_count": 18,
     "metadata": {},
     "output_type": "execute_result"
    },
    {
     "data": {
      "image/png": "[encoded data removed]",
      "text/plain": [
       "<Figure size 432x288 with 1 Axes>"
      ]
     },
     "metadata": {
      "needs_background": "light"
     },
     "output_type": "display_data"
    }
   ],
   "source": [
    "#plotting \n",
    "score_table.plot(kind='bar')"
   ]
  },
  {
   "cell_type": "code",
   "execution_count": 19,
   "id": "07401f0a",
   "metadata": {},
   "outputs": [
    {
     "data": {
      "text/plain": [
       "<AxesSubplot:xlabel='User'>"
      ]
     },
     "execution_count": 19,
     "metadata": {},
     "output_type": "execute_result"
    },
    {
     "data": {
      "image/png": "[encoded data removed]",
      "text/plain": [
       "<Figure size 432x288 with 1 Axes>"
      ]
     },
     "metadata": {
      "needs_background": "light"
     },
     "output_type": "display_data"
    }
   ],
   "source": [
    "#Collect the negative values for each news source\n",
    "neg_score_table = df.pivot_table(index='User',  values=\"Negative\", aggfunc = np.mean)\n",
    "neg_score_table\n",
    "neg_score_table.plot(kind='bar')"
   ]
  },
  {
   "cell_type": "code",
   "execution_count": 20,
   "id": "c18afe25",
   "metadata": {},
   "outputs": [
    {
     "name": "stdout",
     "output_type": "stream",
     "text": [
      "Requirement already satisfied: matplotlib in c:\\users\\black\\appdata\\local\\programs\\python\\python39\\lib\\site-packages (3.4.2)\n",
      "Requirement already satisfied: pillow>=6.2.0 in c:\\users\\black\\appdata\\local\\programs\\python\\python39\\lib\\site-packages (from matplotlib) (8.2.0)\n",
      "Requirement already satisfied: pyparsing>=2.2.1 in c:\\users\\black\\appdata\\local\\programs\\python\\python39\\lib\\site-packages (from matplotlib) (2.4.7)\n",
      "Requirement already satisfied: numpy>=1.16 in c:\\users\\black\\appdata\\local\\programs\\python\\python39\\lib\\site-packages (from matplotlib) (1.20.3)\n",
      "Requirement already satisfied: cycler>=0.10 in c:\\users\\black\\appdata\\local\\programs\\python\\python39\\lib\\site-packages (from matplotlib) (0.10.0)\n",
      "Requirement already satisfied: python-dateutil>=2.7 in c:\\users\\black\\appdata\\local\\programs\\python\\python39\\lib\\site-packages (from matplotlib) (2.8.1)\n",
      "Requirement already satisfied: kiwisolver>=1.0.1 in c:\\users\\black\\appdata\\local\\programs\\python\\python39\\lib\\site-packages (from matplotlib) (1.3.1)\n",
      "Requirement already satisfied: six in c:\\users\\black\\appdata\\local\\programs\\python\\python39\\lib\\site-packages (from cycler>=0.10->matplotlib) (1.16.0)\n"
     ]
    }
   ],
   "source": [
    "!pip install matplotlib"
   ]
  },
  {
   "cell_type": "code",
   "execution_count": 21,
   "id": "0ebde355",
   "metadata": {},
   "outputs": [],
   "source": [
    "import matplotlib.pyplot as plt"
   ]
  }
 ],
 "metadata": {
  "kernelspec": {
   "display_name": "Python 3",
   "language": "python",
   "name": "python3"
  },
  "language_info": {
   "codemirror_mode": {
    "name": "ipython",
    "version": 3
   },
   "file_extension": ".py",
   "mimetype": "text/x-python",
   "name": "python",
   "nbconvert_exporter": "python",
   "pygments_lexer": "ipython3",
   "version": "3.9.5"
  }
 },
 "nbformat": 4,
 "nbformat_minor": 5
}
